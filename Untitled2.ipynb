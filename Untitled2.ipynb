{
 "cells": [
  {
   "cell_type": "code",
   "execution_count": 1,
   "metadata": {},
   "outputs": [],
   "source": [
    "import pandas as pd\n",
    "import numpy as np\n",
    "import matplotlib.pyplot as plt\n",
    "import seaborn as sns"
   ]
  },
  {
   "cell_type": "code",
   "execution_count": 2,
   "metadata": {},
   "outputs": [],
   "source": [
    "raw_data=pd.read_csv(r'D:\\svu الفصل الاول\\web data mining wdm\\homework\\archive(3)\\vehicles.csv')\n"
   ]
  },
  {
   "cell_type": "code",
   "execution_count": 3,
   "metadata": {},
   "outputs": [
    {
     "data": {
      "text/plain": [
       "False    426880\n",
       "dtype: int64"
      ]
     },
     "execution_count": 3,
     "metadata": {},
     "output_type": "execute_result"
    }
   ],
   "source": [
    "raw_data.duplicated().value_counts()"
   ]
  },
  {
   "cell_type": "code",
   "execution_count": 4,
   "metadata": {},
   "outputs": [
    {
     "data": {
      "text/plain": [
       "Index(['price', 'year', 'manufacturer', 'condition', 'cylinders', 'fuel',\n",
       "       'odometer', 'title_status', 'transmission', 'drive', 'type',\n",
       "       'paint_color'],\n",
       "      dtype='object')"
      ]
     },
     "execution_count": 4,
     "metadata": {},
     "output_type": "execute_result"
    }
   ],
   "source": [
    "# remove the columns that we don't need\n",
    "data=raw_data.drop(['id','url','region','region_url','posting_date','image_url',\n",
    "                    'VIN','model','lat','long','county','state','size','description'],axis=1)\n",
    "\n",
    "# view the columns \n",
    "data.columns"
   ]
  },
  {
   "cell_type": "code",
   "execution_count": 5,
   "metadata": {},
   "outputs": [
    {
     "name": "stdout",
     "output_type": "stream",
     "text": [
      "<class 'pandas.core.frame.DataFrame'>\n",
      "RangeIndex: 426880 entries, 0 to 426879\n",
      "Data columns (total 12 columns):\n",
      " #   Column        Non-Null Count   Dtype  \n",
      "---  ------        --------------   -----  \n",
      " 0   price         426880 non-null  int64  \n",
      " 1   year          425675 non-null  float64\n",
      " 2   manufacturer  409234 non-null  object \n",
      " 3   condition     252776 non-null  object \n",
      " 4   cylinders     249202 non-null  object \n",
      " 5   fuel          423867 non-null  object \n",
      " 6   odometer      422480 non-null  float64\n",
      " 7   title_status  418638 non-null  object \n",
      " 8   transmission  424324 non-null  object \n",
      " 9   drive         296313 non-null  object \n",
      " 10  type          334022 non-null  object \n",
      " 11  paint_color   296677 non-null  object \n",
      "dtypes: float64(2), int64(1), object(9)\n",
      "memory usage: 39.1+ MB\n"
     ]
    }
   ],
   "source": [
    "data.info()"
   ]
  },
  {
   "cell_type": "code",
   "execution_count": 6,
   "metadata": {},
   "outputs": [
    {
     "data": {
      "text/html": [
       "<div>\n",
       "<style scoped>\n",
       "    .dataframe tbody tr th:only-of-type {\n",
       "        vertical-align: middle;\n",
       "    }\n",
       "\n",
       "    .dataframe tbody tr th {\n",
       "        vertical-align: top;\n",
       "    }\n",
       "\n",
       "    .dataframe thead th {\n",
       "        text-align: right;\n",
       "    }\n",
       "</style>\n",
       "<table border=\"1\" class=\"dataframe\">\n",
       "  <thead>\n",
       "    <tr style=\"text-align: right;\">\n",
       "      <th></th>\n",
       "      <th>price</th>\n",
       "      <th>year</th>\n",
       "      <th>manufacturer</th>\n",
       "      <th>condition</th>\n",
       "      <th>cylinders</th>\n",
       "      <th>fuel</th>\n",
       "      <th>odometer</th>\n",
       "      <th>title_status</th>\n",
       "      <th>transmission</th>\n",
       "      <th>drive</th>\n",
       "      <th>type</th>\n",
       "      <th>paint_color</th>\n",
       "    </tr>\n",
       "  </thead>\n",
       "  <tbody>\n",
       "    <tr>\n",
       "      <th>27</th>\n",
       "      <td>33590</td>\n",
       "      <td>2014.0</td>\n",
       "      <td>gmc</td>\n",
       "      <td>good</td>\n",
       "      <td>8 cylinders</td>\n",
       "      <td>gas</td>\n",
       "      <td>57923.0</td>\n",
       "      <td>clean</td>\n",
       "      <td>other</td>\n",
       "      <td>NaN</td>\n",
       "      <td>pickup</td>\n",
       "      <td>white</td>\n",
       "    </tr>\n",
       "    <tr>\n",
       "      <th>28</th>\n",
       "      <td>22590</td>\n",
       "      <td>2010.0</td>\n",
       "      <td>chevrolet</td>\n",
       "      <td>good</td>\n",
       "      <td>8 cylinders</td>\n",
       "      <td>gas</td>\n",
       "      <td>71229.0</td>\n",
       "      <td>clean</td>\n",
       "      <td>other</td>\n",
       "      <td>NaN</td>\n",
       "      <td>pickup</td>\n",
       "      <td>blue</td>\n",
       "    </tr>\n",
       "    <tr>\n",
       "      <th>29</th>\n",
       "      <td>39590</td>\n",
       "      <td>2020.0</td>\n",
       "      <td>chevrolet</td>\n",
       "      <td>good</td>\n",
       "      <td>8 cylinders</td>\n",
       "      <td>gas</td>\n",
       "      <td>19160.0</td>\n",
       "      <td>clean</td>\n",
       "      <td>other</td>\n",
       "      <td>NaN</td>\n",
       "      <td>pickup</td>\n",
       "      <td>red</td>\n",
       "    </tr>\n",
       "    <tr>\n",
       "      <th>30</th>\n",
       "      <td>30990</td>\n",
       "      <td>2017.0</td>\n",
       "      <td>toyota</td>\n",
       "      <td>good</td>\n",
       "      <td>8 cylinders</td>\n",
       "      <td>gas</td>\n",
       "      <td>41124.0</td>\n",
       "      <td>clean</td>\n",
       "      <td>other</td>\n",
       "      <td>NaN</td>\n",
       "      <td>pickup</td>\n",
       "      <td>red</td>\n",
       "    </tr>\n",
       "    <tr>\n",
       "      <th>31</th>\n",
       "      <td>15000</td>\n",
       "      <td>2013.0</td>\n",
       "      <td>ford</td>\n",
       "      <td>excellent</td>\n",
       "      <td>6 cylinders</td>\n",
       "      <td>gas</td>\n",
       "      <td>128000.0</td>\n",
       "      <td>clean</td>\n",
       "      <td>automatic</td>\n",
       "      <td>rwd</td>\n",
       "      <td>truck</td>\n",
       "      <td>black</td>\n",
       "    </tr>\n",
       "    <tr>\n",
       "      <th>...</th>\n",
       "      <td>...</td>\n",
       "      <td>...</td>\n",
       "      <td>...</td>\n",
       "      <td>...</td>\n",
       "      <td>...</td>\n",
       "      <td>...</td>\n",
       "      <td>...</td>\n",
       "      <td>...</td>\n",
       "      <td>...</td>\n",
       "      <td>...</td>\n",
       "      <td>...</td>\n",
       "      <td>...</td>\n",
       "    </tr>\n",
       "    <tr>\n",
       "      <th>426875</th>\n",
       "      <td>23590</td>\n",
       "      <td>2019.0</td>\n",
       "      <td>nissan</td>\n",
       "      <td>good</td>\n",
       "      <td>6 cylinders</td>\n",
       "      <td>gas</td>\n",
       "      <td>32226.0</td>\n",
       "      <td>clean</td>\n",
       "      <td>other</td>\n",
       "      <td>fwd</td>\n",
       "      <td>sedan</td>\n",
       "      <td>NaN</td>\n",
       "    </tr>\n",
       "    <tr>\n",
       "      <th>426876</th>\n",
       "      <td>30590</td>\n",
       "      <td>2020.0</td>\n",
       "      <td>volvo</td>\n",
       "      <td>good</td>\n",
       "      <td>NaN</td>\n",
       "      <td>gas</td>\n",
       "      <td>12029.0</td>\n",
       "      <td>clean</td>\n",
       "      <td>other</td>\n",
       "      <td>fwd</td>\n",
       "      <td>sedan</td>\n",
       "      <td>red</td>\n",
       "    </tr>\n",
       "    <tr>\n",
       "      <th>426877</th>\n",
       "      <td>34990</td>\n",
       "      <td>2020.0</td>\n",
       "      <td>cadillac</td>\n",
       "      <td>good</td>\n",
       "      <td>NaN</td>\n",
       "      <td>diesel</td>\n",
       "      <td>4174.0</td>\n",
       "      <td>clean</td>\n",
       "      <td>other</td>\n",
       "      <td>NaN</td>\n",
       "      <td>hatchback</td>\n",
       "      <td>white</td>\n",
       "    </tr>\n",
       "    <tr>\n",
       "      <th>426878</th>\n",
       "      <td>28990</td>\n",
       "      <td>2018.0</td>\n",
       "      <td>lexus</td>\n",
       "      <td>good</td>\n",
       "      <td>6 cylinders</td>\n",
       "      <td>gas</td>\n",
       "      <td>30112.0</td>\n",
       "      <td>clean</td>\n",
       "      <td>other</td>\n",
       "      <td>fwd</td>\n",
       "      <td>sedan</td>\n",
       "      <td>silver</td>\n",
       "    </tr>\n",
       "    <tr>\n",
       "      <th>426879</th>\n",
       "      <td>30590</td>\n",
       "      <td>2019.0</td>\n",
       "      <td>bmw</td>\n",
       "      <td>good</td>\n",
       "      <td>NaN</td>\n",
       "      <td>gas</td>\n",
       "      <td>22716.0</td>\n",
       "      <td>clean</td>\n",
       "      <td>other</td>\n",
       "      <td>rwd</td>\n",
       "      <td>coupe</td>\n",
       "      <td>NaN</td>\n",
       "    </tr>\n",
       "  </tbody>\n",
       "</table>\n",
       "<p>334022 rows × 12 columns</p>\n",
       "</div>"
      ],
      "text/plain": [
       "        price    year manufacturer  condition    cylinders    fuel  odometer  \\\n",
       "27      33590  2014.0          gmc       good  8 cylinders     gas   57923.0   \n",
       "28      22590  2010.0    chevrolet       good  8 cylinders     gas   71229.0   \n",
       "29      39590  2020.0    chevrolet       good  8 cylinders     gas   19160.0   \n",
       "30      30990  2017.0       toyota       good  8 cylinders     gas   41124.0   \n",
       "31      15000  2013.0         ford  excellent  6 cylinders     gas  128000.0   \n",
       "...       ...     ...          ...        ...          ...     ...       ...   \n",
       "426875  23590  2019.0       nissan       good  6 cylinders     gas   32226.0   \n",
       "426876  30590  2020.0        volvo       good          NaN     gas   12029.0   \n",
       "426877  34990  2020.0     cadillac       good          NaN  diesel    4174.0   \n",
       "426878  28990  2018.0        lexus       good  6 cylinders     gas   30112.0   \n",
       "426879  30590  2019.0          bmw       good          NaN     gas   22716.0   \n",
       "\n",
       "       title_status transmission drive       type paint_color  \n",
       "27            clean        other   NaN     pickup       white  \n",
       "28            clean        other   NaN     pickup        blue  \n",
       "29            clean        other   NaN     pickup         red  \n",
       "30            clean        other   NaN     pickup         red  \n",
       "31            clean    automatic   rwd      truck       black  \n",
       "...             ...          ...   ...        ...         ...  \n",
       "426875        clean        other   fwd      sedan         NaN  \n",
       "426876        clean        other   fwd      sedan         red  \n",
       "426877        clean        other   NaN  hatchback       white  \n",
       "426878        clean        other   fwd      sedan      silver  \n",
       "426879        clean        other   rwd      coupe         NaN  \n",
       "\n",
       "[334022 rows x 12 columns]"
      ]
     },
     "execution_count": 6,
     "metadata": {},
     "output_type": "execute_result"
    }
   ],
   "source": [
    "# beacuast the type column is the target column , we will remove it for now\n",
    "# let's remove the data that has a null target\n",
    "pure_target=data.type.dropna()\n",
    "data1=data.loc[pure_target.index,:]\n",
    "data1"
   ]
  },
  {
   "cell_type": "code",
   "execution_count": 7,
   "metadata": {},
   "outputs": [
    {
     "name": "stdout",
     "output_type": "stream",
     "text": [
      "['8 ' '6 ' 'nan' '4 ' '5 ' 'other' '3 ' '10 ' '12 ']\n"
     ]
    }
   ],
   "source": [
    "# the cylinder in fact is a numericaal feature but because there is the word\"cylinder \" it looks like an object feature \n",
    "# so we will correct it\n",
    "data1['cylinders']=data1.cylinders.apply(lambda x:str(x))\n",
    "a=data1.cylinders.apply(lambda x:x.replace(\"cylinders\",\"\"))\n",
    "# data1['cylinders']=a.astype('float64')\n",
    "data1['cylinders']=a\n",
    "print(data1.cylinders.unique())"
   ]
  },
  {
   "cell_type": "markdown",
   "metadata": {},
   "source": [
    "we can see that thers is a value equal  to other , we will convert it to null because we don't know the real value\n"
   ]
  },
  {
   "cell_type": "code",
   "execution_count": 8,
   "metadata": {},
   "outputs": [
    {
     "name": "stdout",
     "output_type": "stream",
     "text": [
      "['8 ' '6 ' 'nan' '4 ' '5 ' nan '3 ' '10 ' '12 ']\n"
     ]
    }
   ],
   "source": [
    "# replace the other value in cylinder by with null value\n",
    "data1['cylinders']=data1.cylinders.replace('other',np.nan)\n",
    "print(data1.cylinders.unique())\n"
   ]
  },
  {
   "cell_type": "code",
   "execution_count": 9,
   "metadata": {},
   "outputs": [
    {
     "name": "stdout",
     "output_type": "stream",
     "text": [
      "[ 8.  6. nan  4.  5.  3. 10. 12.]\n"
     ]
    }
   ],
   "source": [
    "data1['cylinders']=data1['cylinders'].astype('float64')\n",
    "\n",
    "print(data1.cylinders.unique())"
   ]
  },
  {
   "cell_type": "code",
   "execution_count": 10,
   "metadata": {},
   "outputs": [
    {
     "data": {
      "text/html": [
       "<div>\n",
       "<style scoped>\n",
       "    .dataframe tbody tr th:only-of-type {\n",
       "        vertical-align: middle;\n",
       "    }\n",
       "\n",
       "    .dataframe tbody tr th {\n",
       "        vertical-align: top;\n",
       "    }\n",
       "\n",
       "    .dataframe thead th {\n",
       "        text-align: right;\n",
       "    }\n",
       "</style>\n",
       "<table border=\"1\" class=\"dataframe\">\n",
       "  <thead>\n",
       "    <tr style=\"text-align: right;\">\n",
       "      <th></th>\n",
       "      <th>manufacturer</th>\n",
       "      <th>condition</th>\n",
       "      <th>fuel</th>\n",
       "      <th>title_status</th>\n",
       "      <th>transmission</th>\n",
       "      <th>drive</th>\n",
       "      <th>type</th>\n",
       "      <th>paint_color</th>\n",
       "    </tr>\n",
       "  </thead>\n",
       "  <tbody>\n",
       "    <tr>\n",
       "      <th>27</th>\n",
       "      <td>gmc</td>\n",
       "      <td>good</td>\n",
       "      <td>gas</td>\n",
       "      <td>clean</td>\n",
       "      <td>other</td>\n",
       "      <td>NaN</td>\n",
       "      <td>pickup</td>\n",
       "      <td>white</td>\n",
       "    </tr>\n",
       "    <tr>\n",
       "      <th>28</th>\n",
       "      <td>chevrolet</td>\n",
       "      <td>good</td>\n",
       "      <td>gas</td>\n",
       "      <td>clean</td>\n",
       "      <td>other</td>\n",
       "      <td>NaN</td>\n",
       "      <td>pickup</td>\n",
       "      <td>blue</td>\n",
       "    </tr>\n",
       "    <tr>\n",
       "      <th>29</th>\n",
       "      <td>chevrolet</td>\n",
       "      <td>good</td>\n",
       "      <td>gas</td>\n",
       "      <td>clean</td>\n",
       "      <td>other</td>\n",
       "      <td>NaN</td>\n",
       "      <td>pickup</td>\n",
       "      <td>red</td>\n",
       "    </tr>\n",
       "    <tr>\n",
       "      <th>30</th>\n",
       "      <td>toyota</td>\n",
       "      <td>good</td>\n",
       "      <td>gas</td>\n",
       "      <td>clean</td>\n",
       "      <td>other</td>\n",
       "      <td>NaN</td>\n",
       "      <td>pickup</td>\n",
       "      <td>red</td>\n",
       "    </tr>\n",
       "    <tr>\n",
       "      <th>31</th>\n",
       "      <td>ford</td>\n",
       "      <td>excellent</td>\n",
       "      <td>gas</td>\n",
       "      <td>clean</td>\n",
       "      <td>automatic</td>\n",
       "      <td>rwd</td>\n",
       "      <td>truck</td>\n",
       "      <td>black</td>\n",
       "    </tr>\n",
       "    <tr>\n",
       "      <th>...</th>\n",
       "      <td>...</td>\n",
       "      <td>...</td>\n",
       "      <td>...</td>\n",
       "      <td>...</td>\n",
       "      <td>...</td>\n",
       "      <td>...</td>\n",
       "      <td>...</td>\n",
       "      <td>...</td>\n",
       "    </tr>\n",
       "    <tr>\n",
       "      <th>426875</th>\n",
       "      <td>nissan</td>\n",
       "      <td>good</td>\n",
       "      <td>gas</td>\n",
       "      <td>clean</td>\n",
       "      <td>other</td>\n",
       "      <td>fwd</td>\n",
       "      <td>sedan</td>\n",
       "      <td>NaN</td>\n",
       "    </tr>\n",
       "    <tr>\n",
       "      <th>426876</th>\n",
       "      <td>volvo</td>\n",
       "      <td>good</td>\n",
       "      <td>gas</td>\n",
       "      <td>clean</td>\n",
       "      <td>other</td>\n",
       "      <td>fwd</td>\n",
       "      <td>sedan</td>\n",
       "      <td>red</td>\n",
       "    </tr>\n",
       "    <tr>\n",
       "      <th>426877</th>\n",
       "      <td>cadillac</td>\n",
       "      <td>good</td>\n",
       "      <td>diesel</td>\n",
       "      <td>clean</td>\n",
       "      <td>other</td>\n",
       "      <td>NaN</td>\n",
       "      <td>hatchback</td>\n",
       "      <td>white</td>\n",
       "    </tr>\n",
       "    <tr>\n",
       "      <th>426878</th>\n",
       "      <td>lexus</td>\n",
       "      <td>good</td>\n",
       "      <td>gas</td>\n",
       "      <td>clean</td>\n",
       "      <td>other</td>\n",
       "      <td>fwd</td>\n",
       "      <td>sedan</td>\n",
       "      <td>silver</td>\n",
       "    </tr>\n",
       "    <tr>\n",
       "      <th>426879</th>\n",
       "      <td>bmw</td>\n",
       "      <td>good</td>\n",
       "      <td>gas</td>\n",
       "      <td>clean</td>\n",
       "      <td>other</td>\n",
       "      <td>rwd</td>\n",
       "      <td>coupe</td>\n",
       "      <td>NaN</td>\n",
       "    </tr>\n",
       "  </tbody>\n",
       "</table>\n",
       "<p>334022 rows × 8 columns</p>\n",
       "</div>"
      ],
      "text/plain": [
       "       manufacturer  condition    fuel title_status transmission drive  \\\n",
       "27              gmc       good     gas        clean        other   NaN   \n",
       "28        chevrolet       good     gas        clean        other   NaN   \n",
       "29        chevrolet       good     gas        clean        other   NaN   \n",
       "30           toyota       good     gas        clean        other   NaN   \n",
       "31             ford  excellent     gas        clean    automatic   rwd   \n",
       "...             ...        ...     ...          ...          ...   ...   \n",
       "426875       nissan       good     gas        clean        other   fwd   \n",
       "426876        volvo       good     gas        clean        other   fwd   \n",
       "426877     cadillac       good  diesel        clean        other   NaN   \n",
       "426878        lexus       good     gas        clean        other   fwd   \n",
       "426879          bmw       good     gas        clean        other   rwd   \n",
       "\n",
       "             type paint_color  \n",
       "27         pickup       white  \n",
       "28         pickup        blue  \n",
       "29         pickup         red  \n",
       "30         pickup         red  \n",
       "31          truck       black  \n",
       "...           ...         ...  \n",
       "426875      sedan         NaN  \n",
       "426876      sedan         red  \n",
       "426877  hatchback       white  \n",
       "426878      sedan      silver  \n",
       "426879      coupe         NaN  \n",
       "\n",
       "[334022 rows x 8 columns]"
      ]
     },
     "execution_count": 10,
     "metadata": {},
     "output_type": "execute_result"
    }
   ],
   "source": [
    "\n",
    "\n",
    "# take the categorical features\n",
    "categorical_data=data1.select_dtypes(include=['object'])\n",
    "# remove the rows that is all null\n",
    "categorical_data1=categorical_data.dropna(thresh=1)\n",
    "\n",
    "# for i in range(len(categorical_data)):\n",
    "#     if (categorical_data.iloc[i].all==np.nan):\n",
    "#         categorical_data.drop(i,inplace=True)\n",
    "\n",
    "categorical_data1"
   ]
  },
  {
   "cell_type": "code",
   "execution_count": 11,
   "metadata": {},
   "outputs": [
    {
     "data": {
      "text/plain": [
       "manufacturer     11160\n",
       "condition       114021\n",
       "fuel              1841\n",
       "title_status      7104\n",
       "transmission      1856\n",
       "drive            69735\n",
       "type                 0\n",
       "paint_color      64197\n",
       "dtype: int64"
      ]
     },
     "execution_count": 11,
     "metadata": {},
     "output_type": "execute_result"
    }
   ],
   "source": [
    "# find the colums with nulls \n",
    "col_with_nulls=categorical_data1.isnull().sum()\n",
    "col_with_nulls"
   ]
  },
  {
   "cell_type": "code",
   "execution_count": 12,
   "metadata": {},
   "outputs": [
    {
     "data": {
      "text/plain": [
       "manufacturernew     11160\n",
       "conditionnew       114021\n",
       "fuelnew              1841\n",
       "title_statusnew      7104\n",
       "transmissionnew      1856\n",
       "drivenew            69735\n",
       "paint_colornew      64197\n",
       "dtype: int64"
      ]
     },
     "execution_count": 12,
     "metadata": {},
     "output_type": "execute_result"
    }
   ],
   "source": [
    "from sklearn.preprocessing import LabelEncoder\n",
    "label_encoder=LabelEncoder()\n",
    "dic={}\n",
    "for i in col_with_nulls.index:\n",
    "  if(col_with_nulls[i]>0):\n",
    "    dic[i+'new']= label_encoder.fit_transform(categorical_data1[i]).astype('float')\n",
    "    dic[i+'new'][np.where(dic[i+'new']==dic[i+'new'].max())]=np.nan\n",
    "#     dic[i+'new'].replace(dic[i+'new'].max,np.nan)\n",
    "\n",
    "\n",
    "    #       print(i)\n",
    "dic\n",
    "# print(np.where(dic['fuelnew']==dic['fuelnew'].max()))\n",
    "categorical_data2=pd.DataFrame(dic)\n",
    "categorical_data2.isnull().sum()\n",
    "# print(dic['fuelnew'].max())"
   ]
  },
  {
   "cell_type": "code",
   "execution_count": 13,
   "metadata": {},
   "outputs": [
    {
     "data": {
      "text/html": [
       "<div>\n",
       "<style scoped>\n",
       "    .dataframe tbody tr th:only-of-type {\n",
       "        vertical-align: middle;\n",
       "    }\n",
       "\n",
       "    .dataframe tbody tr th {\n",
       "        vertical-align: top;\n",
       "    }\n",
       "\n",
       "    .dataframe thead th {\n",
       "        text-align: right;\n",
       "    }\n",
       "</style>\n",
       "<table border=\"1\" class=\"dataframe\">\n",
       "  <thead>\n",
       "    <tr style=\"text-align: right;\">\n",
       "      <th></th>\n",
       "      <th>manufacturernew</th>\n",
       "      <th>conditionnew</th>\n",
       "      <th>fuelnew</th>\n",
       "      <th>title_statusnew</th>\n",
       "      <th>transmissionnew</th>\n",
       "      <th>drivenew</th>\n",
       "      <th>paint_colornew</th>\n",
       "    </tr>\n",
       "  </thead>\n",
       "  <tbody>\n",
       "    <tr>\n",
       "      <th>0</th>\n",
       "      <td>14.0</td>\n",
       "      <td>2.0</td>\n",
       "      <td>2.0</td>\n",
       "      <td>0.0</td>\n",
       "      <td>2.0</td>\n",
       "      <td>NaN</td>\n",
       "      <td>10.0</td>\n",
       "    </tr>\n",
       "    <tr>\n",
       "      <th>1</th>\n",
       "      <td>7.0</td>\n",
       "      <td>2.0</td>\n",
       "      <td>2.0</td>\n",
       "      <td>0.0</td>\n",
       "      <td>2.0</td>\n",
       "      <td>NaN</td>\n",
       "      <td>1.0</td>\n",
       "    </tr>\n",
       "    <tr>\n",
       "      <th>2</th>\n",
       "      <td>7.0</td>\n",
       "      <td>2.0</td>\n",
       "      <td>2.0</td>\n",
       "      <td>0.0</td>\n",
       "      <td>2.0</td>\n",
       "      <td>NaN</td>\n",
       "      <td>8.0</td>\n",
       "    </tr>\n",
       "    <tr>\n",
       "      <th>3</th>\n",
       "      <td>39.0</td>\n",
       "      <td>2.0</td>\n",
       "      <td>2.0</td>\n",
       "      <td>0.0</td>\n",
       "      <td>2.0</td>\n",
       "      <td>NaN</td>\n",
       "      <td>8.0</td>\n",
       "    </tr>\n",
       "    <tr>\n",
       "      <th>4</th>\n",
       "      <td>13.0</td>\n",
       "      <td>0.0</td>\n",
       "      <td>2.0</td>\n",
       "      <td>0.0</td>\n",
       "      <td>0.0</td>\n",
       "      <td>2.0</td>\n",
       "      <td>0.0</td>\n",
       "    </tr>\n",
       "    <tr>\n",
       "      <th>...</th>\n",
       "      <td>...</td>\n",
       "      <td>...</td>\n",
       "      <td>...</td>\n",
       "      <td>...</td>\n",
       "      <td>...</td>\n",
       "      <td>...</td>\n",
       "      <td>...</td>\n",
       "    </tr>\n",
       "    <tr>\n",
       "      <th>334017</th>\n",
       "      <td>31.0</td>\n",
       "      <td>2.0</td>\n",
       "      <td>2.0</td>\n",
       "      <td>0.0</td>\n",
       "      <td>2.0</td>\n",
       "      <td>1.0</td>\n",
       "      <td>NaN</td>\n",
       "    </tr>\n",
       "    <tr>\n",
       "      <th>334018</th>\n",
       "      <td>41.0</td>\n",
       "      <td>2.0</td>\n",
       "      <td>2.0</td>\n",
       "      <td>0.0</td>\n",
       "      <td>2.0</td>\n",
       "      <td>1.0</td>\n",
       "      <td>8.0</td>\n",
       "    </tr>\n",
       "    <tr>\n",
       "      <th>334019</th>\n",
       "      <td>6.0</td>\n",
       "      <td>2.0</td>\n",
       "      <td>0.0</td>\n",
       "      <td>0.0</td>\n",
       "      <td>2.0</td>\n",
       "      <td>NaN</td>\n",
       "      <td>10.0</td>\n",
       "    </tr>\n",
       "    <tr>\n",
       "      <th>334020</th>\n",
       "      <td>23.0</td>\n",
       "      <td>2.0</td>\n",
       "      <td>2.0</td>\n",
       "      <td>0.0</td>\n",
       "      <td>2.0</td>\n",
       "      <td>1.0</td>\n",
       "      <td>9.0</td>\n",
       "    </tr>\n",
       "    <tr>\n",
       "      <th>334021</th>\n",
       "      <td>4.0</td>\n",
       "      <td>2.0</td>\n",
       "      <td>2.0</td>\n",
       "      <td>0.0</td>\n",
       "      <td>2.0</td>\n",
       "      <td>2.0</td>\n",
       "      <td>NaN</td>\n",
       "    </tr>\n",
       "  </tbody>\n",
       "</table>\n",
       "<p>334022 rows × 7 columns</p>\n",
       "</div>"
      ],
      "text/plain": [
       "        manufacturernew  conditionnew  fuelnew  title_statusnew  \\\n",
       "0                  14.0           2.0      2.0              0.0   \n",
       "1                   7.0           2.0      2.0              0.0   \n",
       "2                   7.0           2.0      2.0              0.0   \n",
       "3                  39.0           2.0      2.0              0.0   \n",
       "4                  13.0           0.0      2.0              0.0   \n",
       "...                 ...           ...      ...              ...   \n",
       "334017             31.0           2.0      2.0              0.0   \n",
       "334018             41.0           2.0      2.0              0.0   \n",
       "334019              6.0           2.0      0.0              0.0   \n",
       "334020             23.0           2.0      2.0              0.0   \n",
       "334021              4.0           2.0      2.0              0.0   \n",
       "\n",
       "        transmissionnew  drivenew  paint_colornew  \n",
       "0                   2.0       NaN            10.0  \n",
       "1                   2.0       NaN             1.0  \n",
       "2                   2.0       NaN             8.0  \n",
       "3                   2.0       NaN             8.0  \n",
       "4                   0.0       2.0             0.0  \n",
       "...                 ...       ...             ...  \n",
       "334017              2.0       1.0             NaN  \n",
       "334018              2.0       1.0             8.0  \n",
       "334019              2.0       NaN            10.0  \n",
       "334020              2.0       1.0             9.0  \n",
       "334021              2.0       2.0             NaN  \n",
       "\n",
       "[334022 rows x 7 columns]"
      ]
     },
     "execution_count": 13,
     "metadata": {},
     "output_type": "execute_result"
    }
   ],
   "source": [
    "categorical_data2"
   ]
  },
  {
   "cell_type": "code",
   "execution_count": 14,
   "metadata": {},
   "outputs": [
    {
     "data": {
      "text/plain": [
       "(334022, 7)"
      ]
     },
     "execution_count": 14,
     "metadata": {},
     "output_type": "execute_result"
    }
   ],
   "source": [
    "from sklearn.experimental import enable_iterative_imputer\n",
    "from sklearn.impute import IterativeImputer\n",
    "iterative_imputer=IterativeImputer()\n",
    "categorical_data3=iterative_imputer.fit_transform(categorical_data2)\n",
    "categorical_data3.shape\n"
   ]
  },
  {
   "cell_type": "code",
   "execution_count": 15,
   "metadata": {},
   "outputs": [
    {
     "name": "stdout",
     "output_type": "stream",
     "text": [
      "        manufacturernew  conditionnew  fuelnew  title_statusnew  \\\n",
      "0                  14.0           2.0      2.0              0.0   \n",
      "1                   7.0           2.0      2.0              0.0   \n",
      "2                   7.0           2.0      2.0              0.0   \n",
      "3                  39.0           2.0      2.0              0.0   \n",
      "4                  13.0           0.0      2.0              0.0   \n",
      "...                 ...           ...      ...              ...   \n",
      "334017             31.0           2.0      2.0              0.0   \n",
      "334018             41.0           2.0      2.0              0.0   \n",
      "334019              6.0           2.0      0.0              0.0   \n",
      "334020             23.0           2.0      2.0              0.0   \n",
      "334021              4.0           2.0      2.0              0.0   \n",
      "\n",
      "        transmissionnew  drivenew  paint_colornew  \n",
      "0                   2.0       1.0            10.0  \n",
      "1                   2.0       1.0             1.0  \n",
      "2                   2.0       1.0             8.0  \n",
      "3                   2.0       1.0             8.0  \n",
      "4                   0.0       2.0             0.0  \n",
      "...                 ...       ...             ...  \n",
      "334017              2.0       1.0             6.0  \n",
      "334018              2.0       1.0             8.0  \n",
      "334019              2.0       1.0            10.0  \n",
      "334020              2.0       1.0             9.0  \n",
      "334021              2.0       2.0             6.0  \n",
      "\n",
      "[334022 rows x 7 columns]\n"
     ]
    }
   ],
   "source": [
    "categorical_data4=np.round(pd.DataFrame(categorical_data3,columns=categorical_data2.columns))\n",
    "# print(categorical_data5)\n",
    "print(np.round(categorical_data4))\n",
    "# print(categorical_data5)"
   ]
  },
  {
   "cell_type": "code",
   "execution_count": 16,
   "metadata": {},
   "outputs": [
    {
     "name": "stdout",
     "output_type": "stream",
     "text": [
      "<class 'pandas.core.frame.DataFrame'>\n",
      "RangeIndex: 426880 entries, 0 to 426879\n",
      "Data columns (total 12 columns):\n",
      " #   Column        Non-Null Count   Dtype  \n",
      "---  ------        --------------   -----  \n",
      " 0   price         426880 non-null  int64  \n",
      " 1   year          425675 non-null  float64\n",
      " 2   manufacturer  409234 non-null  object \n",
      " 3   condition     252776 non-null  object \n",
      " 4   cylinders     249202 non-null  object \n",
      " 5   fuel          423867 non-null  object \n",
      " 6   odometer      422480 non-null  float64\n",
      " 7   title_status  418638 non-null  object \n",
      " 8   transmission  424324 non-null  object \n",
      " 9   drive         296313 non-null  object \n",
      " 10  type          334022 non-null  object \n",
      " 11  paint_color   296677 non-null  object \n",
      "dtypes: float64(2), int64(1), object(9)\n",
      "memory usage: 39.1+ MB\n"
     ]
    }
   ],
   "source": [
    "# now let's handle the missing values in the numerical data\n",
    "data.info()"
   ]
  },
  {
   "cell_type": "code",
   "execution_count": 17,
   "metadata": {},
   "outputs": [
    {
     "data": {
      "text/html": [
       "<div>\n",
       "<style scoped>\n",
       "    .dataframe tbody tr th:only-of-type {\n",
       "        vertical-align: middle;\n",
       "    }\n",
       "\n",
       "    .dataframe tbody tr th {\n",
       "        vertical-align: top;\n",
       "    }\n",
       "\n",
       "    .dataframe thead th {\n",
       "        text-align: right;\n",
       "    }\n",
       "</style>\n",
       "<table border=\"1\" class=\"dataframe\">\n",
       "  <thead>\n",
       "    <tr style=\"text-align: right;\">\n",
       "      <th></th>\n",
       "      <th>price</th>\n",
       "      <th>year</th>\n",
       "      <th>cylinders</th>\n",
       "      <th>odometer</th>\n",
       "    </tr>\n",
       "  </thead>\n",
       "  <tbody>\n",
       "    <tr>\n",
       "      <th>count</th>\n",
       "      <td>3.340220e+05</td>\n",
       "      <td>333008.000000</td>\n",
       "      <td>220467.000000</td>\n",
       "      <td>3.305760e+05</td>\n",
       "    </tr>\n",
       "    <tr>\n",
       "      <th>mean</th>\n",
       "      <td>3.921879e+04</td>\n",
       "      <td>2011.974484</td>\n",
       "      <td>5.950029</td>\n",
       "      <td>9.077960e+04</td>\n",
       "    </tr>\n",
       "    <tr>\n",
       "      <th>std</th>\n",
       "      <td>7.190011e+06</td>\n",
       "      <td>8.547253</td>\n",
       "      <td>1.595738</td>\n",
       "      <td>1.718971e+05</td>\n",
       "    </tr>\n",
       "    <tr>\n",
       "      <th>min</th>\n",
       "      <td>0.000000e+00</td>\n",
       "      <td>1900.000000</td>\n",
       "      <td>3.000000</td>\n",
       "      <td>0.000000e+00</td>\n",
       "    </tr>\n",
       "    <tr>\n",
       "      <th>25%</th>\n",
       "      <td>6.500000e+03</td>\n",
       "      <td>2009.000000</td>\n",
       "      <td>4.000000</td>\n",
       "      <td>3.443900e+04</td>\n",
       "    </tr>\n",
       "    <tr>\n",
       "      <th>50%</th>\n",
       "      <td>1.499900e+04</td>\n",
       "      <td>2014.000000</td>\n",
       "      <td>6.000000</td>\n",
       "      <td>7.949900e+04</td>\n",
       "    </tr>\n",
       "    <tr>\n",
       "      <th>75%</th>\n",
       "      <td>2.759000e+04</td>\n",
       "      <td>2017.000000</td>\n",
       "      <td>8.000000</td>\n",
       "      <td>1.273810e+05</td>\n",
       "    </tr>\n",
       "    <tr>\n",
       "      <th>max</th>\n",
       "      <td>3.736929e+09</td>\n",
       "      <td>2022.000000</td>\n",
       "      <td>12.000000</td>\n",
       "      <td>1.000000e+07</td>\n",
       "    </tr>\n",
       "  </tbody>\n",
       "</table>\n",
       "</div>"
      ],
      "text/plain": [
       "              price           year      cylinders      odometer\n",
       "count  3.340220e+05  333008.000000  220467.000000  3.305760e+05\n",
       "mean   3.921879e+04    2011.974484       5.950029  9.077960e+04\n",
       "std    7.190011e+06       8.547253       1.595738  1.718971e+05\n",
       "min    0.000000e+00    1900.000000       3.000000  0.000000e+00\n",
       "25%    6.500000e+03    2009.000000       4.000000  3.443900e+04\n",
       "50%    1.499900e+04    2014.000000       6.000000  7.949900e+04\n",
       "75%    2.759000e+04    2017.000000       8.000000  1.273810e+05\n",
       "max    3.736929e+09    2022.000000      12.000000  1.000000e+07"
      ]
     },
     "execution_count": 17,
     "metadata": {},
     "output_type": "execute_result"
    }
   ],
   "source": [
    "# as we can see we have price,year,odometer and cylinder as numerical features\n",
    "# let's take the numerical data\n",
    "numerical_col=data1.select_dtypes(include=['int64','float64'])\n",
    "numerical_col.describe()"
   ]
  },
  {
   "cell_type": "code",
   "execution_count": 18,
   "metadata": {},
   "outputs": [
    {
     "data": {
      "text/html": [
       "<div>\n",
       "<style scoped>\n",
       "    .dataframe tbody tr th:only-of-type {\n",
       "        vertical-align: middle;\n",
       "    }\n",
       "\n",
       "    .dataframe tbody tr th {\n",
       "        vertical-align: top;\n",
       "    }\n",
       "\n",
       "    .dataframe thead th {\n",
       "        text-align: right;\n",
       "    }\n",
       "</style>\n",
       "<table border=\"1\" class=\"dataframe\">\n",
       "  <thead>\n",
       "    <tr style=\"text-align: right;\">\n",
       "      <th></th>\n",
       "      <th>price</th>\n",
       "      <th>year</th>\n",
       "      <th>cylinders</th>\n",
       "      <th>odometer</th>\n",
       "    </tr>\n",
       "  </thead>\n",
       "  <tbody>\n",
       "    <tr>\n",
       "      <th>27</th>\n",
       "      <td>33590</td>\n",
       "      <td>2014.0</td>\n",
       "      <td>8.0</td>\n",
       "      <td>57923.0</td>\n",
       "    </tr>\n",
       "    <tr>\n",
       "      <th>28</th>\n",
       "      <td>22590</td>\n",
       "      <td>2010.0</td>\n",
       "      <td>8.0</td>\n",
       "      <td>71229.0</td>\n",
       "    </tr>\n",
       "    <tr>\n",
       "      <th>29</th>\n",
       "      <td>39590</td>\n",
       "      <td>2020.0</td>\n",
       "      <td>8.0</td>\n",
       "      <td>19160.0</td>\n",
       "    </tr>\n",
       "    <tr>\n",
       "      <th>30</th>\n",
       "      <td>30990</td>\n",
       "      <td>2017.0</td>\n",
       "      <td>8.0</td>\n",
       "      <td>41124.0</td>\n",
       "    </tr>\n",
       "    <tr>\n",
       "      <th>31</th>\n",
       "      <td>15000</td>\n",
       "      <td>2013.0</td>\n",
       "      <td>6.0</td>\n",
       "      <td>128000.0</td>\n",
       "    </tr>\n",
       "    <tr>\n",
       "      <th>...</th>\n",
       "      <td>...</td>\n",
       "      <td>...</td>\n",
       "      <td>...</td>\n",
       "      <td>...</td>\n",
       "    </tr>\n",
       "    <tr>\n",
       "      <th>426875</th>\n",
       "      <td>23590</td>\n",
       "      <td>2019.0</td>\n",
       "      <td>6.0</td>\n",
       "      <td>32226.0</td>\n",
       "    </tr>\n",
       "    <tr>\n",
       "      <th>426876</th>\n",
       "      <td>30590</td>\n",
       "      <td>2020.0</td>\n",
       "      <td>NaN</td>\n",
       "      <td>12029.0</td>\n",
       "    </tr>\n",
       "    <tr>\n",
       "      <th>426877</th>\n",
       "      <td>34990</td>\n",
       "      <td>2020.0</td>\n",
       "      <td>NaN</td>\n",
       "      <td>4174.0</td>\n",
       "    </tr>\n",
       "    <tr>\n",
       "      <th>426878</th>\n",
       "      <td>28990</td>\n",
       "      <td>2018.0</td>\n",
       "      <td>6.0</td>\n",
       "      <td>30112.0</td>\n",
       "    </tr>\n",
       "    <tr>\n",
       "      <th>426879</th>\n",
       "      <td>30590</td>\n",
       "      <td>2019.0</td>\n",
       "      <td>NaN</td>\n",
       "      <td>22716.0</td>\n",
       "    </tr>\n",
       "  </tbody>\n",
       "</table>\n",
       "<p>334022 rows × 4 columns</p>\n",
       "</div>"
      ],
      "text/plain": [
       "        price    year  cylinders  odometer\n",
       "27      33590  2014.0        8.0   57923.0\n",
       "28      22590  2010.0        8.0   71229.0\n",
       "29      39590  2020.0        8.0   19160.0\n",
       "30      30990  2017.0        8.0   41124.0\n",
       "31      15000  2013.0        6.0  128000.0\n",
       "...       ...     ...        ...       ...\n",
       "426875  23590  2019.0        6.0   32226.0\n",
       "426876  30590  2020.0        NaN   12029.0\n",
       "426877  34990  2020.0        NaN    4174.0\n",
       "426878  28990  2018.0        6.0   30112.0\n",
       "426879  30590  2019.0        NaN   22716.0\n",
       "\n",
       "[334022 rows x 4 columns]"
      ]
     },
     "execution_count": 18,
     "metadata": {},
     "output_type": "execute_result"
    }
   ],
   "source": [
    "numerical_col"
   ]
  },
  {
   "cell_type": "code",
   "execution_count": 19,
   "metadata": {},
   "outputs": [
    {
     "name": "stderr",
     "output_type": "stream",
     "text": [
      "C:\\ProgramData\\Anaconda3\\lib\\site-packages\\pandas\\core\\indexing.py:966: SettingWithCopyWarning: \n",
      "A value is trying to be set on a copy of a slice from a DataFrame.\n",
      "Try using .loc[row_indexer,col_indexer] = value instead\n",
      "\n",
      "See the caveats in the documentation: https://pandas.pydata.org/pandas-docs/stable/user_guide/indexing.html#returning-a-view-versus-a-copy\n",
      "  self.obj[item] = s\n"
     ]
    }
   ],
   "source": [
    "# a=numerical_col.cylinders.interpolate()\n",
    "# a=numerical_col.cylinders.fillna(method='ffill')\n",
    "numerical_col.loc[:,'cylinders']=numerical_col.cylinders.fillna(method='ffill')\n"
   ]
  },
  {
   "cell_type": "code",
   "execution_count": 20,
   "metadata": {},
   "outputs": [
    {
     "data": {
      "text/plain": [
       "price           0\n",
       "year         1014\n",
       "cylinders       0\n",
       "odometer     3446\n",
       "dtype: int64"
      ]
     },
     "execution_count": 20,
     "metadata": {},
     "output_type": "execute_result"
    }
   ],
   "source": [
    "# numerical_col.loc['cylinders']=numerical_col.cylinders.interpolate()\n",
    "numerical_col.isnull().sum()\n",
    "# numerical_col.cylinders.unique()\n",
    "# b=numerical_col.cylinders.isnull()==True\n"
   ]
  },
  {
   "cell_type": "code",
   "execution_count": 21,
   "metadata": {},
   "outputs": [],
   "source": [
    "numerical_col.loc[:,'year']=numerical_col.year.fillna(method='ffill')"
   ]
  },
  {
   "cell_type": "code",
   "execution_count": 22,
   "metadata": {},
   "outputs": [
    {
     "data": {
      "text/plain": [
       "price           0\n",
       "year            0\n",
       "cylinders       0\n",
       "odometer     3446\n",
       "dtype: int64"
      ]
     },
     "execution_count": 22,
     "metadata": {},
     "output_type": "execute_result"
    }
   ],
   "source": [
    "numerical_col.isnull().sum()"
   ]
  },
  {
   "cell_type": "code",
   "execution_count": 23,
   "metadata": {},
   "outputs": [
    {
     "data": {
      "text/plain": [
       "Int64Index([    27,     28,     29,     30,     31,     32,     33,     34,\n",
       "                35,     36,\n",
       "            ...\n",
       "            426870, 426871, 426872, 426873, 426874, 426875, 426876, 426877,\n",
       "            426878, 426879],\n",
       "           dtype='int64', length=334022)"
      ]
     },
     "execution_count": 23,
     "metadata": {},
     "output_type": "execute_result"
    }
   ],
   "source": [
    "# for odometer we will apply a linear tarnsformer to predict the null values\n",
    "numerical_col\n",
    "numerical_col_index=numerical_col.index\n",
    "numerical_col_index"
   ]
  },
  {
   "cell_type": "code",
   "execution_count": 24,
   "metadata": {},
   "outputs": [
    {
     "name": "stderr",
     "output_type": "stream",
     "text": [
      "C:\\ProgramData\\Anaconda3\\lib\\site-packages\\pandas\\core\\indexing.py:845: SettingWithCopyWarning: \n",
      "A value is trying to be set on a copy of a slice from a DataFrame.\n",
      "Try using .loc[row_indexer,col_indexer] = value instead\n",
      "\n",
      "See the caveats in the documentation: https://pandas.pydata.org/pandas-docs/stable/user_guide/indexing.html#returning-a-view-versus-a-copy\n",
      "  self.obj[key] = _infer_fill_value(value)\n"
     ]
    }
   ],
   "source": [
    "# the year feature is the year of the made of the car \n",
    "# we will split the year features to 10 11 parts \n",
    "# we will consider that every ten years are similar in car marketing\n",
    "bins_year_edges =np.array([1889, 1901, 1913, 1925, 1937, 1949, 1961, 1973, 1985, 1997, 2009,2023])\n",
    "\n",
    "# bins_year_edges=np.arange(numerical_col['year'].min(),numerical_col['year'].max(),12)\n",
    "bins_year_edges\n",
    "bins_labels=['g1','g2','g3','g4','g5','g6','g7','g8','g9','g10','g11']\n",
    "\n",
    "years_bins=pd.cut(numerical_col['year'],bins_year_edges,labels=bins_labels)\n",
    "# years_bins.isnull()\n",
    "# years_bins[years_bins.isnull()==True].index\n",
    "# label_encoder.fit_transform(years_bins)\n",
    "# years_bins.isnull().sum()\n",
    "years_generations=label_encoder.fit_transform(years_bins)\n",
    "# np.unique(years_generations)\n",
    "# np.unique(years_generations)\n",
    "numerical_col.loc[:,'year_new']=years_generations\n",
    "# np.unique(years_generations)\n",
    "# years_bins.unique()"
   ]
  },
  {
   "cell_type": "code",
   "execution_count": 25,
   "metadata": {},
   "outputs": [
    {
     "data": {
      "text/plain": [
       "27        2\n",
       "28        2\n",
       "29        2\n",
       "30        2\n",
       "31        2\n",
       "         ..\n",
       "426875    2\n",
       "426876    2\n",
       "426877    2\n",
       "426878    2\n",
       "426879    2\n",
       "Name: year_new, Length: 334022, dtype: int32"
      ]
     },
     "execution_count": 25,
     "metadata": {},
     "output_type": "execute_result"
    }
   ],
   "source": [
    "numerical_col['year_new']"
   ]
  },
  {
   "cell_type": "code",
   "execution_count": 26,
   "metadata": {},
   "outputs": [
    {
     "data": {
      "text/html": [
       "<div>\n",
       "<style scoped>\n",
       "    .dataframe tbody tr th:only-of-type {\n",
       "        vertical-align: middle;\n",
       "    }\n",
       "\n",
       "    .dataframe tbody tr th {\n",
       "        vertical-align: top;\n",
       "    }\n",
       "\n",
       "    .dataframe thead th {\n",
       "        text-align: right;\n",
       "    }\n",
       "</style>\n",
       "<table border=\"1\" class=\"dataframe\">\n",
       "  <thead>\n",
       "    <tr style=\"text-align: right;\">\n",
       "      <th></th>\n",
       "      <th>price</th>\n",
       "      <th>cylinders</th>\n",
       "      <th>odometer</th>\n",
       "      <th>year_new</th>\n",
       "    </tr>\n",
       "  </thead>\n",
       "  <tbody>\n",
       "    <tr>\n",
       "      <th>27</th>\n",
       "      <td>33590</td>\n",
       "      <td>8.0</td>\n",
       "      <td>57923.0</td>\n",
       "      <td>2</td>\n",
       "    </tr>\n",
       "    <tr>\n",
       "      <th>28</th>\n",
       "      <td>22590</td>\n",
       "      <td>8.0</td>\n",
       "      <td>71229.0</td>\n",
       "      <td>2</td>\n",
       "    </tr>\n",
       "    <tr>\n",
       "      <th>29</th>\n",
       "      <td>39590</td>\n",
       "      <td>8.0</td>\n",
       "      <td>19160.0</td>\n",
       "      <td>2</td>\n",
       "    </tr>\n",
       "    <tr>\n",
       "      <th>30</th>\n",
       "      <td>30990</td>\n",
       "      <td>8.0</td>\n",
       "      <td>41124.0</td>\n",
       "      <td>2</td>\n",
       "    </tr>\n",
       "    <tr>\n",
       "      <th>31</th>\n",
       "      <td>15000</td>\n",
       "      <td>6.0</td>\n",
       "      <td>128000.0</td>\n",
       "      <td>2</td>\n",
       "    </tr>\n",
       "    <tr>\n",
       "      <th>...</th>\n",
       "      <td>...</td>\n",
       "      <td>...</td>\n",
       "      <td>...</td>\n",
       "      <td>...</td>\n",
       "    </tr>\n",
       "    <tr>\n",
       "      <th>426875</th>\n",
       "      <td>23590</td>\n",
       "      <td>6.0</td>\n",
       "      <td>32226.0</td>\n",
       "      <td>2</td>\n",
       "    </tr>\n",
       "    <tr>\n",
       "      <th>426876</th>\n",
       "      <td>30590</td>\n",
       "      <td>6.0</td>\n",
       "      <td>12029.0</td>\n",
       "      <td>2</td>\n",
       "    </tr>\n",
       "    <tr>\n",
       "      <th>426877</th>\n",
       "      <td>34990</td>\n",
       "      <td>6.0</td>\n",
       "      <td>4174.0</td>\n",
       "      <td>2</td>\n",
       "    </tr>\n",
       "    <tr>\n",
       "      <th>426878</th>\n",
       "      <td>28990</td>\n",
       "      <td>6.0</td>\n",
       "      <td>30112.0</td>\n",
       "      <td>2</td>\n",
       "    </tr>\n",
       "    <tr>\n",
       "      <th>426879</th>\n",
       "      <td>30590</td>\n",
       "      <td>6.0</td>\n",
       "      <td>22716.0</td>\n",
       "      <td>2</td>\n",
       "    </tr>\n",
       "  </tbody>\n",
       "</table>\n",
       "<p>334022 rows × 4 columns</p>\n",
       "</div>"
      ],
      "text/plain": [
       "        price  cylinders  odometer  year_new\n",
       "27      33590        8.0   57923.0         2\n",
       "28      22590        8.0   71229.0         2\n",
       "29      39590        8.0   19160.0         2\n",
       "30      30990        8.0   41124.0         2\n",
       "31      15000        6.0  128000.0         2\n",
       "...       ...        ...       ...       ...\n",
       "426875  23590        6.0   32226.0         2\n",
       "426876  30590        6.0   12029.0         2\n",
       "426877  34990        6.0    4174.0         2\n",
       "426878  28990        6.0   30112.0         2\n",
       "426879  30590        6.0   22716.0         2\n",
       "\n",
       "[334022 rows x 4 columns]"
      ]
     },
     "execution_count": 26,
     "metadata": {},
     "output_type": "execute_result"
    }
   ],
   "source": [
    "numerical_col1=numerical_col.drop('year',axis=1)\n",
    "numerical_col1"
   ]
  },
  {
   "cell_type": "code",
   "execution_count": 27,
   "metadata": {},
   "outputs": [
    {
     "data": {
      "text/plain": [
       "array([[3.3590e+04, 8.0000e+00, 5.7923e+04, 2.0000e+00],\n",
       "       [2.2590e+04, 8.0000e+00, 7.1229e+04, 2.0000e+00],\n",
       "       [3.9590e+04, 8.0000e+00, 1.9160e+04, 2.0000e+00],\n",
       "       ...,\n",
       "       [3.4990e+04, 6.0000e+00, 4.1740e+03, 2.0000e+00],\n",
       "       [2.8990e+04, 6.0000e+00, 3.0112e+04, 2.0000e+00],\n",
       "       [3.0590e+04, 6.0000e+00, 2.2716e+04, 2.0000e+00]])"
      ]
     },
     "execution_count": 27,
     "metadata": {},
     "output_type": "execute_result"
    }
   ],
   "source": [
    "# now fill the null values of odemeter dependinh on the informatioon in the other columns\n",
    "numerical_col2=iterative_imputer.fit_transform(numerical_col1)\n",
    "# categorical_data3.shape\n",
    "# numerical_col1.isnull().sum()\n",
    "# numerical_col2.isnull().sum()\n",
    "numerical_col2\n",
    "# numerical_col3=pd.DataFrame(numerical_col2,numerical_col1.columns)\n",
    "# numerical_col3"
   ]
  },
  {
   "cell_type": "code",
   "execution_count": 28,
   "metadata": {},
   "outputs": [
    {
     "data": {
      "text/plain": [
       "(334022, 4)"
      ]
     },
     "execution_count": 28,
     "metadata": {},
     "output_type": "execute_result"
    }
   ],
   "source": [
    "numerical_col2.shape"
   ]
  },
  {
   "cell_type": "code",
   "execution_count": 29,
   "metadata": {},
   "outputs": [
    {
     "data": {
      "text/plain": [
       "price        0\n",
       "cylinders    0\n",
       "odometer     0\n",
       "year_new     0\n",
       "dtype: int64"
      ]
     },
     "execution_count": 29,
     "metadata": {},
     "output_type": "execute_result"
    }
   ],
   "source": [
    "numerical_col3=pd.DataFrame(numerical_col2,columns=numerical_col1.columns)\n",
    "numerical_col3.isnull().sum()\n"
   ]
  },
  {
   "cell_type": "code",
   "execution_count": 30,
   "metadata": {},
   "outputs": [
    {
     "data": {
      "text/html": [
       "<div>\n",
       "<style scoped>\n",
       "    .dataframe tbody tr th:only-of-type {\n",
       "        vertical-align: middle;\n",
       "    }\n",
       "\n",
       "    .dataframe tbody tr th {\n",
       "        vertical-align: top;\n",
       "    }\n",
       "\n",
       "    .dataframe thead th {\n",
       "        text-align: right;\n",
       "    }\n",
       "</style>\n",
       "<table border=\"1\" class=\"dataframe\">\n",
       "  <thead>\n",
       "    <tr style=\"text-align: right;\">\n",
       "      <th></th>\n",
       "      <th>price</th>\n",
       "      <th>cylinders</th>\n",
       "      <th>odometer</th>\n",
       "      <th>year_new</th>\n",
       "    </tr>\n",
       "  </thead>\n",
       "  <tbody>\n",
       "    <tr>\n",
       "      <th>count</th>\n",
       "      <td>3.340220e+05</td>\n",
       "      <td>334022.000000</td>\n",
       "      <td>3.340220e+05</td>\n",
       "      <td>334022.000000</td>\n",
       "    </tr>\n",
       "    <tr>\n",
       "      <th>mean</th>\n",
       "      <td>3.921879e+04</td>\n",
       "      <td>5.987731</td>\n",
       "      <td>9.077959e+04</td>\n",
       "      <td>2.039000</td>\n",
       "    </tr>\n",
       "    <tr>\n",
       "      <th>std</th>\n",
       "      <td>7.190011e+06</td>\n",
       "      <td>1.576369</td>\n",
       "      <td>1.710081e+05</td>\n",
       "      <td>1.447398</td>\n",
       "    </tr>\n",
       "    <tr>\n",
       "      <th>min</th>\n",
       "      <td>0.000000e+00</td>\n",
       "      <td>3.000000</td>\n",
       "      <td>0.000000e+00</td>\n",
       "      <td>0.000000</td>\n",
       "    </tr>\n",
       "    <tr>\n",
       "      <th>25%</th>\n",
       "      <td>6.500000e+03</td>\n",
       "      <td>4.000000</td>\n",
       "      <td>3.476575e+04</td>\n",
       "      <td>2.000000</td>\n",
       "    </tr>\n",
       "    <tr>\n",
       "      <th>50%</th>\n",
       "      <td>1.499900e+04</td>\n",
       "      <td>6.000000</td>\n",
       "      <td>8.031800e+04</td>\n",
       "      <td>2.000000</td>\n",
       "    </tr>\n",
       "    <tr>\n",
       "      <th>75%</th>\n",
       "      <td>2.759000e+04</td>\n",
       "      <td>8.000000</td>\n",
       "      <td>1.269008e+05</td>\n",
       "      <td>2.000000</td>\n",
       "    </tr>\n",
       "    <tr>\n",
       "      <th>max</th>\n",
       "      <td>3.736929e+09</td>\n",
       "      <td>12.000000</td>\n",
       "      <td>1.000000e+07</td>\n",
       "      <td>10.000000</td>\n",
       "    </tr>\n",
       "  </tbody>\n",
       "</table>\n",
       "</div>"
      ],
      "text/plain": [
       "              price      cylinders      odometer       year_new\n",
       "count  3.340220e+05  334022.000000  3.340220e+05  334022.000000\n",
       "mean   3.921879e+04       5.987731  9.077959e+04       2.039000\n",
       "std    7.190011e+06       1.576369  1.710081e+05       1.447398\n",
       "min    0.000000e+00       3.000000  0.000000e+00       0.000000\n",
       "25%    6.500000e+03       4.000000  3.476575e+04       2.000000\n",
       "50%    1.499900e+04       6.000000  8.031800e+04       2.000000\n",
       "75%    2.759000e+04       8.000000  1.269008e+05       2.000000\n",
       "max    3.736929e+09      12.000000  1.000000e+07      10.000000"
      ]
     },
     "execution_count": 30,
     "metadata": {},
     "output_type": "execute_result"
    }
   ],
   "source": [
    "# view the describe oof the numeriacl features\n",
    "numerical_col3.describe()"
   ]
  },
  {
   "cell_type": "markdown",
   "metadata": {},
   "source": [
    "we can see that the minimum value in price feature is zero\n",
    "it is not logical that there is no price forthe car\n",
    "so we will delete them"
   ]
  },
  {
   "cell_type": "code",
   "execution_count": 31,
   "metadata": {},
   "outputs": [],
   "source": [
    "# make the zero values as null\n",
    "# numerical_col4=\n",
    "# numerical_col4\n",
    "# numerical_col4=numerical_col3.drop(numerical_col3[(numerical_col3.price==0).index])\n",
    "zero_prices=(numerical_col3.price!=0)&(numerical_col3.price<100000)\n",
    "numerical_col4=numerical_col3[zero_prices]\n",
    "# sns.boxplot(numerical_col4.price)\n",
    "# numerical_col4.describe()\n",
    "# numerical_col4.describe()\n",
    "\n",
    "\n"
   ]
  },
  {
   "cell_type": "code",
   "execution_count": 32,
   "metadata": {},
   "outputs": [],
   "source": [
    "categorical_data4=categorical_data4.iloc[numerical_col4.index,:]"
   ]
  },
  {
   "cell_type": "code",
   "execution_count": 33,
   "metadata": {},
   "outputs": [],
   "source": [
    "# now let's fill the  null values of the price\n",
    "# numerical_col4=iterative_imputer.fit_transform(numerical_col3)\n",
    "# numerical_col4=pd.DataFrame(numerical_col4,columns=numerical_col3.columns)\n",
    "# numerical_col4\n",
    "# sns.boxplot(numerical_col4.price)\n",
    "# len(numerical_col4[numerical_col4.price==])"
   ]
  },
  {
   "cell_type": "code",
   "execution_count": 34,
   "metadata": {},
   "outputs": [],
   "source": [
    "f_data=pd.concat([categorical_data4,numerical_col4],axis=1)\n",
    "# f_data.reset_index()"
   ]
  },
  {
   "cell_type": "code",
   "execution_count": 35,
   "metadata": {},
   "outputs": [
    {
     "data": {
      "text/plain": [
       "1089"
      ]
     },
     "execution_count": 35,
     "metadata": {},
     "output_type": "execute_result"
    }
   ],
   "source": [
    "# view the scatter of the price feature\n",
    "# sns.scatterplot(x=f_data.index,y=f_data.price)\n",
    "# np.sort(f_data.price)[0:300]\n",
    "len(f_data[f_data.price==1])"
   ]
  },
  {
   "cell_type": "code",
   "execution_count": null,
   "metadata": {},
   "outputs": [],
   "source": []
  },
  {
   "cell_type": "code",
   "execution_count": 36,
   "metadata": {},
   "outputs": [],
   "source": [
    "final_data=pd.concat([categorical_data4,numerical_col4],axis=1)\n",
    "# final_data.reset_index()"
   ]
  },
  {
   "cell_type": "code",
   "execution_count": 37,
   "metadata": {},
   "outputs": [
    {
     "data": {
      "text/html": [
       "<div>\n",
       "<style scoped>\n",
       "    .dataframe tbody tr th:only-of-type {\n",
       "        vertical-align: middle;\n",
       "    }\n",
       "\n",
       "    .dataframe tbody tr th {\n",
       "        vertical-align: top;\n",
       "    }\n",
       "\n",
       "    .dataframe thead th {\n",
       "        text-align: right;\n",
       "    }\n",
       "</style>\n",
       "<table border=\"1\" class=\"dataframe\">\n",
       "  <thead>\n",
       "    <tr style=\"text-align: right;\">\n",
       "      <th></th>\n",
       "      <th>price</th>\n",
       "      <th>year</th>\n",
       "      <th>manufacturer</th>\n",
       "      <th>condition</th>\n",
       "      <th>cylinders</th>\n",
       "      <th>fuel</th>\n",
       "      <th>odometer</th>\n",
       "      <th>title_status</th>\n",
       "      <th>transmission</th>\n",
       "      <th>drive</th>\n",
       "      <th>type</th>\n",
       "      <th>paint_color</th>\n",
       "    </tr>\n",
       "  </thead>\n",
       "  <tbody>\n",
       "    <tr>\n",
       "      <th>27</th>\n",
       "      <td>33590</td>\n",
       "      <td>2014.0</td>\n",
       "      <td>gmc</td>\n",
       "      <td>good</td>\n",
       "      <td>8.0</td>\n",
       "      <td>gas</td>\n",
       "      <td>57923.0</td>\n",
       "      <td>clean</td>\n",
       "      <td>other</td>\n",
       "      <td>NaN</td>\n",
       "      <td>pickup</td>\n",
       "      <td>white</td>\n",
       "    </tr>\n",
       "    <tr>\n",
       "      <th>28</th>\n",
       "      <td>22590</td>\n",
       "      <td>2010.0</td>\n",
       "      <td>chevrolet</td>\n",
       "      <td>good</td>\n",
       "      <td>8.0</td>\n",
       "      <td>gas</td>\n",
       "      <td>71229.0</td>\n",
       "      <td>clean</td>\n",
       "      <td>other</td>\n",
       "      <td>NaN</td>\n",
       "      <td>pickup</td>\n",
       "      <td>blue</td>\n",
       "    </tr>\n",
       "    <tr>\n",
       "      <th>29</th>\n",
       "      <td>39590</td>\n",
       "      <td>2020.0</td>\n",
       "      <td>chevrolet</td>\n",
       "      <td>good</td>\n",
       "      <td>8.0</td>\n",
       "      <td>gas</td>\n",
       "      <td>19160.0</td>\n",
       "      <td>clean</td>\n",
       "      <td>other</td>\n",
       "      <td>NaN</td>\n",
       "      <td>pickup</td>\n",
       "      <td>red</td>\n",
       "    </tr>\n",
       "    <tr>\n",
       "      <th>30</th>\n",
       "      <td>30990</td>\n",
       "      <td>2017.0</td>\n",
       "      <td>toyota</td>\n",
       "      <td>good</td>\n",
       "      <td>8.0</td>\n",
       "      <td>gas</td>\n",
       "      <td>41124.0</td>\n",
       "      <td>clean</td>\n",
       "      <td>other</td>\n",
       "      <td>NaN</td>\n",
       "      <td>pickup</td>\n",
       "      <td>red</td>\n",
       "    </tr>\n",
       "  </tbody>\n",
       "</table>\n",
       "</div>"
      ],
      "text/plain": [
       "    price    year manufacturer condition  cylinders fuel  odometer  \\\n",
       "27  33590  2014.0          gmc      good        8.0  gas   57923.0   \n",
       "28  22590  2010.0    chevrolet      good        8.0  gas   71229.0   \n",
       "29  39590  2020.0    chevrolet      good        8.0  gas   19160.0   \n",
       "30  30990  2017.0       toyota      good        8.0  gas   41124.0   \n",
       "\n",
       "   title_status transmission drive    type paint_color  \n",
       "27        clean        other   NaN  pickup       white  \n",
       "28        clean        other   NaN  pickup        blue  \n",
       "29        clean        other   NaN  pickup         red  \n",
       "30        clean        other   NaN  pickup         red  "
      ]
     },
     "execution_count": 37,
     "metadata": {},
     "output_type": "execute_result"
    }
   ],
   "source": [
    "data1.loc[27:30,:]"
   ]
  },
  {
   "cell_type": "code",
   "execution_count": 38,
   "metadata": {},
   "outputs": [],
   "source": [
    "# scaling the numerical data\n"
   ]
  },
  {
   "cell_type": "code",
   "execution_count": 39,
   "metadata": {},
   "outputs": [
    {
     "data": {
      "text/plain": [
       "manufacturernew    0\n",
       "conditionnew       0\n",
       "fuelnew            0\n",
       "title_statusnew    0\n",
       "transmissionnew    0\n",
       "drivenew           0\n",
       "paint_colornew     0\n",
       "price              0\n",
       "cylinders          0\n",
       "odometer           0\n",
       "year_new           0\n",
       "dtype: int64"
      ]
     },
     "execution_count": 39,
     "metadata": {},
     "output_type": "execute_result"
    }
   ],
   "source": [
    "final_data.isnull().sum()"
   ]
  },
  {
   "cell_type": "code",
   "execution_count": 40,
   "metadata": {},
   "outputs": [],
   "source": [
    "# convert the categorical of the the target to numbers\n",
    "# pure_target=pure_target[final_data.index]\n",
    "pure_target=pure_target.iloc[f_data.index]\n",
    "# final_data.index\n",
    "# pure_target[final_data.index]\n"
   ]
  },
  {
   "cell_type": "code",
   "execution_count": 41,
   "metadata": {},
   "outputs": [
    {
     "data": {
      "text/plain": [
       "307551"
      ]
     },
     "execution_count": 41,
     "metadata": {},
     "output_type": "execute_result"
    }
   ],
   "source": [
    "target_data=label_encoder.fit_transform(pure_target)\n",
    "len(target_data)"
   ]
  },
  {
   "cell_type": "code",
   "execution_count": 42,
   "metadata": {},
   "outputs": [
    {
     "data": {
      "text/html": [
       "<div>\n",
       "<style scoped>\n",
       "    .dataframe tbody tr th:only-of-type {\n",
       "        vertical-align: middle;\n",
       "    }\n",
       "\n",
       "    .dataframe tbody tr th {\n",
       "        vertical-align: top;\n",
       "    }\n",
       "\n",
       "    .dataframe thead th {\n",
       "        text-align: right;\n",
       "    }\n",
       "</style>\n",
       "<table border=\"1\" class=\"dataframe\">\n",
       "  <thead>\n",
       "    <tr style=\"text-align: right;\">\n",
       "      <th></th>\n",
       "      <th>manufacturernew</th>\n",
       "      <th>conditionnew</th>\n",
       "      <th>fuelnew</th>\n",
       "      <th>title_statusnew</th>\n",
       "      <th>transmissionnew</th>\n",
       "      <th>drivenew</th>\n",
       "      <th>paint_colornew</th>\n",
       "      <th>price</th>\n",
       "      <th>cylinders</th>\n",
       "      <th>odometer</th>\n",
       "      <th>year_new</th>\n",
       "      <th>type</th>\n",
       "    </tr>\n",
       "  </thead>\n",
       "  <tbody>\n",
       "    <tr>\n",
       "      <th>0</th>\n",
       "      <td>14.0</td>\n",
       "      <td>2.0</td>\n",
       "      <td>2.0</td>\n",
       "      <td>0.0</td>\n",
       "      <td>2.0</td>\n",
       "      <td>1.0</td>\n",
       "      <td>10.0</td>\n",
       "      <td>33590.0</td>\n",
       "      <td>8.0</td>\n",
       "      <td>57923.0</td>\n",
       "      <td>2.0</td>\n",
       "      <td>8</td>\n",
       "    </tr>\n",
       "    <tr>\n",
       "      <th>1</th>\n",
       "      <td>7.0</td>\n",
       "      <td>2.0</td>\n",
       "      <td>2.0</td>\n",
       "      <td>0.0</td>\n",
       "      <td>2.0</td>\n",
       "      <td>1.0</td>\n",
       "      <td>1.0</td>\n",
       "      <td>22590.0</td>\n",
       "      <td>8.0</td>\n",
       "      <td>71229.0</td>\n",
       "      <td>2.0</td>\n",
       "      <td>8</td>\n",
       "    </tr>\n",
       "    <tr>\n",
       "      <th>2</th>\n",
       "      <td>7.0</td>\n",
       "      <td>2.0</td>\n",
       "      <td>2.0</td>\n",
       "      <td>0.0</td>\n",
       "      <td>2.0</td>\n",
       "      <td>1.0</td>\n",
       "      <td>8.0</td>\n",
       "      <td>39590.0</td>\n",
       "      <td>8.0</td>\n",
       "      <td>19160.0</td>\n",
       "      <td>2.0</td>\n",
       "      <td>8</td>\n",
       "    </tr>\n",
       "    <tr>\n",
       "      <th>3</th>\n",
       "      <td>39.0</td>\n",
       "      <td>2.0</td>\n",
       "      <td>2.0</td>\n",
       "      <td>0.0</td>\n",
       "      <td>2.0</td>\n",
       "      <td>1.0</td>\n",
       "      <td>8.0</td>\n",
       "      <td>30990.0</td>\n",
       "      <td>8.0</td>\n",
       "      <td>41124.0</td>\n",
       "      <td>2.0</td>\n",
       "      <td>8</td>\n",
       "    </tr>\n",
       "    <tr>\n",
       "      <th>4</th>\n",
       "      <td>13.0</td>\n",
       "      <td>0.0</td>\n",
       "      <td>2.0</td>\n",
       "      <td>0.0</td>\n",
       "      <td>0.0</td>\n",
       "      <td>2.0</td>\n",
       "      <td>0.0</td>\n",
       "      <td>15000.0</td>\n",
       "      <td>6.0</td>\n",
       "      <td>128000.0</td>\n",
       "      <td>2.0</td>\n",
       "      <td>10</td>\n",
       "    </tr>\n",
       "    <tr>\n",
       "      <th>...</th>\n",
       "      <td>...</td>\n",
       "      <td>...</td>\n",
       "      <td>...</td>\n",
       "      <td>...</td>\n",
       "      <td>...</td>\n",
       "      <td>...</td>\n",
       "      <td>...</td>\n",
       "      <td>...</td>\n",
       "      <td>...</td>\n",
       "      <td>...</td>\n",
       "      <td>...</td>\n",
       "      <td>...</td>\n",
       "    </tr>\n",
       "    <tr>\n",
       "      <th>334017</th>\n",
       "      <td>31.0</td>\n",
       "      <td>2.0</td>\n",
       "      <td>2.0</td>\n",
       "      <td>0.0</td>\n",
       "      <td>2.0</td>\n",
       "      <td>1.0</td>\n",
       "      <td>6.0</td>\n",
       "      <td>23590.0</td>\n",
       "      <td>6.0</td>\n",
       "      <td>32226.0</td>\n",
       "      <td>2.0</td>\n",
       "      <td>9</td>\n",
       "    </tr>\n",
       "    <tr>\n",
       "      <th>334018</th>\n",
       "      <td>41.0</td>\n",
       "      <td>2.0</td>\n",
       "      <td>2.0</td>\n",
       "      <td>0.0</td>\n",
       "      <td>2.0</td>\n",
       "      <td>1.0</td>\n",
       "      <td>8.0</td>\n",
       "      <td>30590.0</td>\n",
       "      <td>6.0</td>\n",
       "      <td>12029.0</td>\n",
       "      <td>2.0</td>\n",
       "      <td>9</td>\n",
       "    </tr>\n",
       "    <tr>\n",
       "      <th>334019</th>\n",
       "      <td>6.0</td>\n",
       "      <td>2.0</td>\n",
       "      <td>0.0</td>\n",
       "      <td>0.0</td>\n",
       "      <td>2.0</td>\n",
       "      <td>1.0</td>\n",
       "      <td>10.0</td>\n",
       "      <td>34990.0</td>\n",
       "      <td>6.0</td>\n",
       "      <td>4174.0</td>\n",
       "      <td>2.0</td>\n",
       "      <td>4</td>\n",
       "    </tr>\n",
       "    <tr>\n",
       "      <th>334020</th>\n",
       "      <td>23.0</td>\n",
       "      <td>2.0</td>\n",
       "      <td>2.0</td>\n",
       "      <td>0.0</td>\n",
       "      <td>2.0</td>\n",
       "      <td>1.0</td>\n",
       "      <td>9.0</td>\n",
       "      <td>28990.0</td>\n",
       "      <td>6.0</td>\n",
       "      <td>30112.0</td>\n",
       "      <td>2.0</td>\n",
       "      <td>9</td>\n",
       "    </tr>\n",
       "    <tr>\n",
       "      <th>334021</th>\n",
       "      <td>4.0</td>\n",
       "      <td>2.0</td>\n",
       "      <td>2.0</td>\n",
       "      <td>0.0</td>\n",
       "      <td>2.0</td>\n",
       "      <td>2.0</td>\n",
       "      <td>6.0</td>\n",
       "      <td>30590.0</td>\n",
       "      <td>6.0</td>\n",
       "      <td>22716.0</td>\n",
       "      <td>2.0</td>\n",
       "      <td>3</td>\n",
       "    </tr>\n",
       "  </tbody>\n",
       "</table>\n",
       "<p>307551 rows × 12 columns</p>\n",
       "</div>"
      ],
      "text/plain": [
       "        manufacturernew  conditionnew  fuelnew  title_statusnew  \\\n",
       "0                  14.0           2.0      2.0              0.0   \n",
       "1                   7.0           2.0      2.0              0.0   \n",
       "2                   7.0           2.0      2.0              0.0   \n",
       "3                  39.0           2.0      2.0              0.0   \n",
       "4                  13.0           0.0      2.0              0.0   \n",
       "...                 ...           ...      ...              ...   \n",
       "334017             31.0           2.0      2.0              0.0   \n",
       "334018             41.0           2.0      2.0              0.0   \n",
       "334019              6.0           2.0      0.0              0.0   \n",
       "334020             23.0           2.0      2.0              0.0   \n",
       "334021              4.0           2.0      2.0              0.0   \n",
       "\n",
       "        transmissionnew  drivenew  paint_colornew    price  cylinders  \\\n",
       "0                   2.0       1.0            10.0  33590.0        8.0   \n",
       "1                   2.0       1.0             1.0  22590.0        8.0   \n",
       "2                   2.0       1.0             8.0  39590.0        8.0   \n",
       "3                   2.0       1.0             8.0  30990.0        8.0   \n",
       "4                   0.0       2.0             0.0  15000.0        6.0   \n",
       "...                 ...       ...             ...      ...        ...   \n",
       "334017              2.0       1.0             6.0  23590.0        6.0   \n",
       "334018              2.0       1.0             8.0  30590.0        6.0   \n",
       "334019              2.0       1.0            10.0  34990.0        6.0   \n",
       "334020              2.0       1.0             9.0  28990.0        6.0   \n",
       "334021              2.0       2.0             6.0  30590.0        6.0   \n",
       "\n",
       "        odometer  year_new  type  \n",
       "0        57923.0       2.0     8  \n",
       "1        71229.0       2.0     8  \n",
       "2        19160.0       2.0     8  \n",
       "3        41124.0       2.0     8  \n",
       "4       128000.0       2.0    10  \n",
       "...          ...       ...   ...  \n",
       "334017   32226.0       2.0     9  \n",
       "334018   12029.0       2.0     9  \n",
       "334019    4174.0       2.0     4  \n",
       "334020   30112.0       2.0     9  \n",
       "334021   22716.0       2.0     3  \n",
       "\n",
       "[307551 rows x 12 columns]"
      ]
     },
     "execution_count": 42,
     "metadata": {},
     "output_type": "execute_result"
    }
   ],
   "source": [
    "f_data['type']=target_data\n",
    "f_data"
   ]
  },
  {
   "cell_type": "code",
   "execution_count": null,
   "metadata": {},
   "outputs": [],
   "source": [
    "\n"
   ]
  },
  {
   "cell_type": "code",
   "execution_count": 43,
   "metadata": {},
   "outputs": [],
   "source": [
    "# split data to train and test\n",
    "Y=f_data['type']\n",
    "X=f_data.drop('type',axis=1)\n",
    "\n"
   ]
  },
  {
   "cell_type": "code",
   "execution_count": 44,
   "metadata": {},
   "outputs": [],
   "source": [
    "from sklearn.preprocessing import Normalizer\n",
    "scale=Normalizer()\n",
    "scaled_data=scale.fit_transform(X)\n",
    "# scaled_data.shape\n",
    "# final_data.loc[:,['price','odometer']]=scaled_data"
   ]
  },
  {
   "cell_type": "code",
   "execution_count": 83,
   "metadata": {},
   "outputs": [
    {
     "name": "stdout",
     "output_type": "stream",
     "text": [
      "(230663, 11)\n",
      "(76888, 11)\n",
      "(230663,)\n",
      "(230663,)\n"
     ]
    }
   ],
   "source": [
    "from sklearn.model_selection import train_test_split\n",
    "X_train,X_test,Y_train,Y_test=train_test_split(X,pure_target)\n",
    "print(X_train.shape)\n",
    "print(X_test.shape)\n",
    "print(Y_train.shape)\n",
    "print(Y_train.shape)"
   ]
  },
  {
   "cell_type": "code",
   "execution_count": 46,
   "metadata": {},
   "outputs": [],
   "source": [
    "# now we can use the data to classify the type of the car\n",
    "# from sklearn.linear_model import  LogisticRegression\n",
    "# logistic_regression_model=LogisticRegression(max_iter=1500)\n",
    "# logistic_regression_model.fit(X_train,Y_train)"
   ]
  },
  {
   "cell_type": "code",
   "execution_count": 47,
   "metadata": {},
   "outputs": [],
   "source": [
    "# logistic_regression_model.score(X_train,Y_train)"
   ]
  },
  {
   "cell_type": "code",
   "execution_count": 84,
   "metadata": {},
   "outputs": [
    {
     "data": {
      "text/html": [
       "<style>#sk-container-id-3 {color: black;background-color: white;}#sk-container-id-3 pre{padding: 0;}#sk-container-id-3 div.sk-toggleable {background-color: white;}#sk-container-id-3 label.sk-toggleable__label {cursor: pointer;display: block;width: 100%;margin-bottom: 0;padding: 0.3em;box-sizing: border-box;text-align: center;}#sk-container-id-3 label.sk-toggleable__label-arrow:before {content: \"▸\";float: left;margin-right: 0.25em;color: #696969;}#sk-container-id-3 label.sk-toggleable__label-arrow:hover:before {color: black;}#sk-container-id-3 div.sk-estimator:hover label.sk-toggleable__label-arrow:before {color: black;}#sk-container-id-3 div.sk-toggleable__content {max-height: 0;max-width: 0;overflow: hidden;text-align: left;background-color: #f0f8ff;}#sk-container-id-3 div.sk-toggleable__content pre {margin: 0.2em;color: black;border-radius: 0.25em;background-color: #f0f8ff;}#sk-container-id-3 input.sk-toggleable__control:checked~div.sk-toggleable__content {max-height: 200px;max-width: 100%;overflow: auto;}#sk-container-id-3 input.sk-toggleable__control:checked~label.sk-toggleable__label-arrow:before {content: \"▾\";}#sk-container-id-3 div.sk-estimator input.sk-toggleable__control:checked~label.sk-toggleable__label {background-color: #d4ebff;}#sk-container-id-3 div.sk-label input.sk-toggleable__control:checked~label.sk-toggleable__label {background-color: #d4ebff;}#sk-container-id-3 input.sk-hidden--visually {border: 0;clip: rect(1px 1px 1px 1px);clip: rect(1px, 1px, 1px, 1px);height: 1px;margin: -1px;overflow: hidden;padding: 0;position: absolute;width: 1px;}#sk-container-id-3 div.sk-estimator {font-family: monospace;background-color: #f0f8ff;border: 1px dotted black;border-radius: 0.25em;box-sizing: border-box;margin-bottom: 0.5em;}#sk-container-id-3 div.sk-estimator:hover {background-color: #d4ebff;}#sk-container-id-3 div.sk-parallel-item::after {content: \"\";width: 100%;border-bottom: 1px solid gray;flex-grow: 1;}#sk-container-id-3 div.sk-label:hover label.sk-toggleable__label {background-color: #d4ebff;}#sk-container-id-3 div.sk-serial::before {content: \"\";position: absolute;border-left: 1px solid gray;box-sizing: border-box;top: 0;bottom: 0;left: 50%;z-index: 0;}#sk-container-id-3 div.sk-serial {display: flex;flex-direction: column;align-items: center;background-color: white;padding-right: 0.2em;padding-left: 0.2em;position: relative;}#sk-container-id-3 div.sk-item {position: relative;z-index: 1;}#sk-container-id-3 div.sk-parallel {display: flex;align-items: stretch;justify-content: center;background-color: white;position: relative;}#sk-container-id-3 div.sk-item::before, #sk-container-id-3 div.sk-parallel-item::before {content: \"\";position: absolute;border-left: 1px solid gray;box-sizing: border-box;top: 0;bottom: 0;left: 50%;z-index: -1;}#sk-container-id-3 div.sk-parallel-item {display: flex;flex-direction: column;z-index: 1;position: relative;background-color: white;}#sk-container-id-3 div.sk-parallel-item:first-child::after {align-self: flex-end;width: 50%;}#sk-container-id-3 div.sk-parallel-item:last-child::after {align-self: flex-start;width: 50%;}#sk-container-id-3 div.sk-parallel-item:only-child::after {width: 0;}#sk-container-id-3 div.sk-dashed-wrapped {border: 1px dashed gray;margin: 0 0.4em 0.5em 0.4em;box-sizing: border-box;padding-bottom: 0.4em;background-color: white;}#sk-container-id-3 div.sk-label label {font-family: monospace;font-weight: bold;display: inline-block;line-height: 1.2em;}#sk-container-id-3 div.sk-label-container {text-align: center;}#sk-container-id-3 div.sk-container {/* jupyter's `normalize.less` sets `[hidden] { display: none; }` but bootstrap.min.css set `[hidden] { display: none !important; }` so we also need the `!important` here to be able to override the default hidden behavior on the sphinx rendered scikit-learn.org. See: https://github.com/scikit-learn/scikit-learn/issues/21755 */display: inline-block !important;position: relative;}#sk-container-id-3 div.sk-text-repr-fallback {display: none;}</style><div id=\"sk-container-id-3\" class=\"sk-top-container\"><div class=\"sk-text-repr-fallback\"><pre>DecisionTreeClassifier()</pre><b>In a Jupyter environment, please rerun this cell to show the HTML representation or trust the notebook. <br />On GitHub, the HTML representation is unable to render, please try loading this page with nbviewer.org.</b></div><div class=\"sk-container\" hidden><div class=\"sk-item\"><div class=\"sk-estimator sk-toggleable\"><input class=\"sk-toggleable__control sk-hidden--visually\" id=\"sk-estimator-id-3\" type=\"checkbox\" checked><label for=\"sk-estimator-id-3\" class=\"sk-toggleable__label sk-toggleable__label-arrow\">DecisionTreeClassifier</label><div class=\"sk-toggleable__content\"><pre>DecisionTreeClassifier()</pre></div></div></div></div></div>"
      ],
      "text/plain": [
       "DecisionTreeClassifier()"
      ]
     },
     "execution_count": 84,
     "metadata": {},
     "output_type": "execute_result"
    }
   ],
   "source": [
    "from sklearn.tree import DecisionTreeClassifier\n",
    "decision_tree_model=DecisionTreeClassifier()\n",
    "decision_tree_model.fit(X_train,Y_train)"
   ]
  },
  {
   "cell_type": "code",
   "execution_count": 85,
   "metadata": {},
   "outputs": [
    {
     "data": {
      "text/plain": [
       "0.9984045989170348"
      ]
     },
     "execution_count": 85,
     "metadata": {},
     "output_type": "execute_result"
    }
   ],
   "source": [
    "decision_tree_model.score(X_train,Y_train)"
   ]
  },
  {
   "cell_type": "code",
   "execution_count": 86,
   "metadata": {},
   "outputs": [
    {
     "data": {
      "text/plain": [
       "0.73327437311414"
      ]
     },
     "execution_count": 86,
     "metadata": {},
     "output_type": "execute_result"
    }
   ],
   "source": [
    "decision_tree_model.score(X_test,Y_test)"
   ]
  },
  {
   "cell_type": "code",
   "execution_count": 90,
   "metadata": {},
   "outputs": [
    {
     "data": {
      "text/plain": [
       "array(['SUV', 'wagon', 'pickup', ..., 'truck', 'pickup', 'truck'],\n",
       "      dtype=object)"
      ]
     },
     "execution_count": 90,
     "metadata": {},
     "output_type": "execute_result"
    }
   ],
   "source": [
    "predicted=decision_tree_model.predict(X_test)\n",
    "predicted"
   ]
  },
  {
   "cell_type": "code",
   "execution_count": 52,
   "metadata": {},
   "outputs": [
    {
     "data": {
      "text/plain": [
       "0.7364608261367184"
      ]
     },
     "execution_count": 52,
     "metadata": {},
     "output_type": "execute_result"
    }
   ],
   "source": [
    "from sklearn.metrics import accuracy_score\n",
    "accuracy_score(Y_test,predicted)"
   ]
  },
  {
   "cell_type": "code",
   "execution_count": 53,
   "metadata": {},
   "outputs": [
    {
     "data": {
      "text/html": [
       "<div>\n",
       "<style scoped>\n",
       "    .dataframe tbody tr th:only-of-type {\n",
       "        vertical-align: middle;\n",
       "    }\n",
       "\n",
       "    .dataframe tbody tr th {\n",
       "        vertical-align: top;\n",
       "    }\n",
       "\n",
       "    .dataframe thead th {\n",
       "        text-align: right;\n",
       "    }\n",
       "</style>\n",
       "<table border=\"1\" class=\"dataframe\">\n",
       "  <thead>\n",
       "    <tr style=\"text-align: right;\">\n",
       "      <th></th>\n",
       "      <th>manufacturernew</th>\n",
       "      <th>conditionnew</th>\n",
       "      <th>fuelnew</th>\n",
       "      <th>title_statusnew</th>\n",
       "      <th>transmissionnew</th>\n",
       "      <th>drivenew</th>\n",
       "      <th>paint_colornew</th>\n",
       "      <th>price</th>\n",
       "      <th>cylinders</th>\n",
       "      <th>odometer</th>\n",
       "      <th>year_new</th>\n",
       "    </tr>\n",
       "  </thead>\n",
       "  <tbody>\n",
       "    <tr>\n",
       "      <th>manufacturernew</th>\n",
       "      <td>1.000000</td>\n",
       "      <td>-0.029745</td>\n",
       "      <td>-0.038345</td>\n",
       "      <td>0.013983</td>\n",
       "      <td>-0.011236</td>\n",
       "      <td>-0.109625</td>\n",
       "      <td>0.014130</td>\n",
       "      <td>-0.050761</td>\n",
       "      <td>-0.144874</td>\n",
       "      <td>0.007750</td>\n",
       "      <td>-0.039259</td>\n",
       "    </tr>\n",
       "    <tr>\n",
       "      <th>conditionnew</th>\n",
       "      <td>-0.029745</td>\n",
       "      <td>1.000000</td>\n",
       "      <td>0.154167</td>\n",
       "      <td>0.004443</td>\n",
       "      <td>0.391983</td>\n",
       "      <td>0.122720</td>\n",
       "      <td>-0.000730</td>\n",
       "      <td>0.139738</td>\n",
       "      <td>0.081001</td>\n",
       "      <td>-0.065398</td>\n",
       "      <td>0.031112</td>\n",
       "    </tr>\n",
       "    <tr>\n",
       "      <th>fuelnew</th>\n",
       "      <td>-0.038345</td>\n",
       "      <td>0.154167</td>\n",
       "      <td>1.000000</td>\n",
       "      <td>-0.020692</td>\n",
       "      <td>0.291679</td>\n",
       "      <td>0.094701</td>\n",
       "      <td>-0.059200</td>\n",
       "      <td>-0.027438</td>\n",
       "      <td>-0.023719</td>\n",
       "      <td>-0.090993</td>\n",
       "      <td>-0.012842</td>\n",
       "    </tr>\n",
       "    <tr>\n",
       "      <th>title_statusnew</th>\n",
       "      <td>0.013983</td>\n",
       "      <td>0.004443</td>\n",
       "      <td>-0.020692</td>\n",
       "      <td>1.000000</td>\n",
       "      <td>-0.066206</td>\n",
       "      <td>-0.003419</td>\n",
       "      <td>-0.009931</td>\n",
       "      <td>-0.083783</td>\n",
       "      <td>-0.055484</td>\n",
       "      <td>0.007399</td>\n",
       "      <td>0.001112</td>\n",
       "    </tr>\n",
       "    <tr>\n",
       "      <th>transmissionnew</th>\n",
       "      <td>-0.011236</td>\n",
       "      <td>0.391983</td>\n",
       "      <td>0.291679</td>\n",
       "      <td>-0.066206</td>\n",
       "      <td>1.000000</td>\n",
       "      <td>0.149646</td>\n",
       "      <td>-0.004781</td>\n",
       "      <td>0.272610</td>\n",
       "      <td>0.104492</td>\n",
       "      <td>-0.162092</td>\n",
       "      <td>0.038609</td>\n",
       "    </tr>\n",
       "    <tr>\n",
       "      <th>drivenew</th>\n",
       "      <td>-0.109625</td>\n",
       "      <td>0.122720</td>\n",
       "      <td>0.094701</td>\n",
       "      <td>-0.003419</td>\n",
       "      <td>0.149646</td>\n",
       "      <td>1.000000</td>\n",
       "      <td>0.062676</td>\n",
       "      <td>-0.116836</td>\n",
       "      <td>0.004449</td>\n",
       "      <td>-0.022952</td>\n",
       "      <td>0.125312</td>\n",
       "    </tr>\n",
       "    <tr>\n",
       "      <th>paint_colornew</th>\n",
       "      <td>0.014130</td>\n",
       "      <td>-0.000730</td>\n",
       "      <td>-0.059200</td>\n",
       "      <td>-0.009931</td>\n",
       "      <td>-0.004781</td>\n",
       "      <td>0.062676</td>\n",
       "      <td>1.000000</td>\n",
       "      <td>0.012263</td>\n",
       "      <td>0.026650</td>\n",
       "      <td>0.005786</td>\n",
       "      <td>-0.001984</td>\n",
       "    </tr>\n",
       "    <tr>\n",
       "      <th>price</th>\n",
       "      <td>-0.050761</td>\n",
       "      <td>0.139738</td>\n",
       "      <td>-0.027438</td>\n",
       "      <td>-0.083783</td>\n",
       "      <td>0.272610</td>\n",
       "      <td>-0.116836</td>\n",
       "      <td>0.012263</td>\n",
       "      <td>1.000000</td>\n",
       "      <td>0.243453</td>\n",
       "      <td>-0.222377</td>\n",
       "      <td>0.010532</td>\n",
       "    </tr>\n",
       "    <tr>\n",
       "      <th>cylinders</th>\n",
       "      <td>-0.144874</td>\n",
       "      <td>0.081001</td>\n",
       "      <td>-0.023719</td>\n",
       "      <td>-0.055484</td>\n",
       "      <td>0.104492</td>\n",
       "      <td>0.004449</td>\n",
       "      <td>0.026650</td>\n",
       "      <td>0.243453</td>\n",
       "      <td>1.000000</td>\n",
       "      <td>0.010528</td>\n",
       "      <td>0.066697</td>\n",
       "    </tr>\n",
       "    <tr>\n",
       "      <th>odometer</th>\n",
       "      <td>0.007750</td>\n",
       "      <td>-0.065398</td>\n",
       "      <td>-0.090993</td>\n",
       "      <td>0.007399</td>\n",
       "      <td>-0.162092</td>\n",
       "      <td>-0.022952</td>\n",
       "      <td>0.005786</td>\n",
       "      <td>-0.222377</td>\n",
       "      <td>0.010528</td>\n",
       "      <td>1.000000</td>\n",
       "      <td>0.010194</td>\n",
       "    </tr>\n",
       "    <tr>\n",
       "      <th>year_new</th>\n",
       "      <td>-0.039259</td>\n",
       "      <td>0.031112</td>\n",
       "      <td>-0.012842</td>\n",
       "      <td>0.001112</td>\n",
       "      <td>0.038609</td>\n",
       "      <td>0.125312</td>\n",
       "      <td>-0.001984</td>\n",
       "      <td>0.010532</td>\n",
       "      <td>0.066697</td>\n",
       "      <td>0.010194</td>\n",
       "      <td>1.000000</td>\n",
       "    </tr>\n",
       "  </tbody>\n",
       "</table>\n",
       "</div>"
      ],
      "text/plain": [
       "                 manufacturernew  conditionnew   fuelnew  title_statusnew  \\\n",
       "manufacturernew         1.000000     -0.029745 -0.038345         0.013983   \n",
       "conditionnew           -0.029745      1.000000  0.154167         0.004443   \n",
       "fuelnew                -0.038345      0.154167  1.000000        -0.020692   \n",
       "title_statusnew         0.013983      0.004443 -0.020692         1.000000   \n",
       "transmissionnew        -0.011236      0.391983  0.291679        -0.066206   \n",
       "drivenew               -0.109625      0.122720  0.094701        -0.003419   \n",
       "paint_colornew          0.014130     -0.000730 -0.059200        -0.009931   \n",
       "price                  -0.050761      0.139738 -0.027438        -0.083783   \n",
       "cylinders              -0.144874      0.081001 -0.023719        -0.055484   \n",
       "odometer                0.007750     -0.065398 -0.090993         0.007399   \n",
       "year_new               -0.039259      0.031112 -0.012842         0.001112   \n",
       "\n",
       "                 transmissionnew  drivenew  paint_colornew     price  \\\n",
       "manufacturernew        -0.011236 -0.109625        0.014130 -0.050761   \n",
       "conditionnew            0.391983  0.122720       -0.000730  0.139738   \n",
       "fuelnew                 0.291679  0.094701       -0.059200 -0.027438   \n",
       "title_statusnew        -0.066206 -0.003419       -0.009931 -0.083783   \n",
       "transmissionnew         1.000000  0.149646       -0.004781  0.272610   \n",
       "drivenew                0.149646  1.000000        0.062676 -0.116836   \n",
       "paint_colornew         -0.004781  0.062676        1.000000  0.012263   \n",
       "price                   0.272610 -0.116836        0.012263  1.000000   \n",
       "cylinders               0.104492  0.004449        0.026650  0.243453   \n",
       "odometer               -0.162092 -0.022952        0.005786 -0.222377   \n",
       "year_new                0.038609  0.125312       -0.001984  0.010532   \n",
       "\n",
       "                 cylinders  odometer  year_new  \n",
       "manufacturernew  -0.144874  0.007750 -0.039259  \n",
       "conditionnew      0.081001 -0.065398  0.031112  \n",
       "fuelnew          -0.023719 -0.090993 -0.012842  \n",
       "title_statusnew  -0.055484  0.007399  0.001112  \n",
       "transmissionnew   0.104492 -0.162092  0.038609  \n",
       "drivenew          0.004449 -0.022952  0.125312  \n",
       "paint_colornew    0.026650  0.005786 -0.001984  \n",
       "price             0.243453 -0.222377  0.010532  \n",
       "cylinders         1.000000  0.010528  0.066697  \n",
       "odometer          0.010528  1.000000  0.010194  \n",
       "year_new          0.066697  0.010194  1.000000  "
      ]
     },
     "execution_count": 53,
     "metadata": {},
     "output_type": "execute_result"
    }
   ],
   "source": [
    "final_data.corr()"
   ]
  },
  {
   "cell_type": "code",
   "execution_count": 54,
   "metadata": {},
   "outputs": [
    {
     "data": {
      "text/plain": [
       "array([[2.09086558e-04, 2.98695082e-05, 2.98695082e-05, ...,\n",
       "        1.19478033e-04, 8.65065763e-01, 2.98695082e-05],\n",
       "       [9.36763700e-05, 2.67646771e-05, 2.67646771e-05, ...,\n",
       "        1.07058709e-04, 9.53210594e-01, 2.67646771e-05],\n",
       "       [1.59153650e-04, 4.54724715e-05, 4.54724715e-05, ...,\n",
       "        1.81889886e-04, 4.35626277e-01, 4.54724715e-05],\n",
       "       ...,\n",
       "       [1.70270325e-04, 5.67567749e-05, 0.00000000e+00, ...,\n",
       "        1.70270325e-04, 1.18451389e-01, 5.67567749e-05],\n",
       "       [5.50252886e-04, 4.78480770e-05, 4.78480770e-05, ...,\n",
       "        1.43544231e-04, 7.20400647e-01, 4.78480770e-05],\n",
       "       [1.04981277e-04, 5.24906384e-05, 5.24906384e-05, ...,\n",
       "        1.57471915e-04, 5.96188671e-01, 5.24906384e-05]])"
      ]
     },
     "execution_count": 54,
     "metadata": {},
     "output_type": "execute_result"
    }
   ],
   "source": [
    "# a=np.log(final_data.manufacturernew)\n",
    "df=scaled_data.copy()\n",
    "df"
   ]
  },
  {
   "cell_type": "code",
   "execution_count": 55,
   "metadata": {},
   "outputs": [],
   "source": [
    "# df['log_manufacturernew']=1/np.log(df['manufacturernew'])\n",
    "# df['log_manufacturernew'].hist()"
   ]
  },
  {
   "cell_type": "code",
   "execution_count": 56,
   "metadata": {},
   "outputs": [],
   "source": [
    "# df.conditionnew.hist()"
   ]
  },
  {
   "cell_type": "code",
   "execution_count": 113,
   "metadata": {},
   "outputs": [
    {
     "data": {
      "text/html": [
       "<style>#sk-container-id-4 {color: black;background-color: white;}#sk-container-id-4 pre{padding: 0;}#sk-container-id-4 div.sk-toggleable {background-color: white;}#sk-container-id-4 label.sk-toggleable__label {cursor: pointer;display: block;width: 100%;margin-bottom: 0;padding: 0.3em;box-sizing: border-box;text-align: center;}#sk-container-id-4 label.sk-toggleable__label-arrow:before {content: \"▸\";float: left;margin-right: 0.25em;color: #696969;}#sk-container-id-4 label.sk-toggleable__label-arrow:hover:before {color: black;}#sk-container-id-4 div.sk-estimator:hover label.sk-toggleable__label-arrow:before {color: black;}#sk-container-id-4 div.sk-toggleable__content {max-height: 0;max-width: 0;overflow: hidden;text-align: left;background-color: #f0f8ff;}#sk-container-id-4 div.sk-toggleable__content pre {margin: 0.2em;color: black;border-radius: 0.25em;background-color: #f0f8ff;}#sk-container-id-4 input.sk-toggleable__control:checked~div.sk-toggleable__content {max-height: 200px;max-width: 100%;overflow: auto;}#sk-container-id-4 input.sk-toggleable__control:checked~label.sk-toggleable__label-arrow:before {content: \"▾\";}#sk-container-id-4 div.sk-estimator input.sk-toggleable__control:checked~label.sk-toggleable__label {background-color: #d4ebff;}#sk-container-id-4 div.sk-label input.sk-toggleable__control:checked~label.sk-toggleable__label {background-color: #d4ebff;}#sk-container-id-4 input.sk-hidden--visually {border: 0;clip: rect(1px 1px 1px 1px);clip: rect(1px, 1px, 1px, 1px);height: 1px;margin: -1px;overflow: hidden;padding: 0;position: absolute;width: 1px;}#sk-container-id-4 div.sk-estimator {font-family: monospace;background-color: #f0f8ff;border: 1px dotted black;border-radius: 0.25em;box-sizing: border-box;margin-bottom: 0.5em;}#sk-container-id-4 div.sk-estimator:hover {background-color: #d4ebff;}#sk-container-id-4 div.sk-parallel-item::after {content: \"\";width: 100%;border-bottom: 1px solid gray;flex-grow: 1;}#sk-container-id-4 div.sk-label:hover label.sk-toggleable__label {background-color: #d4ebff;}#sk-container-id-4 div.sk-serial::before {content: \"\";position: absolute;border-left: 1px solid gray;box-sizing: border-box;top: 0;bottom: 0;left: 50%;z-index: 0;}#sk-container-id-4 div.sk-serial {display: flex;flex-direction: column;align-items: center;background-color: white;padding-right: 0.2em;padding-left: 0.2em;position: relative;}#sk-container-id-4 div.sk-item {position: relative;z-index: 1;}#sk-container-id-4 div.sk-parallel {display: flex;align-items: stretch;justify-content: center;background-color: white;position: relative;}#sk-container-id-4 div.sk-item::before, #sk-container-id-4 div.sk-parallel-item::before {content: \"\";position: absolute;border-left: 1px solid gray;box-sizing: border-box;top: 0;bottom: 0;left: 50%;z-index: -1;}#sk-container-id-4 div.sk-parallel-item {display: flex;flex-direction: column;z-index: 1;position: relative;background-color: white;}#sk-container-id-4 div.sk-parallel-item:first-child::after {align-self: flex-end;width: 50%;}#sk-container-id-4 div.sk-parallel-item:last-child::after {align-self: flex-start;width: 50%;}#sk-container-id-4 div.sk-parallel-item:only-child::after {width: 0;}#sk-container-id-4 div.sk-dashed-wrapped {border: 1px dashed gray;margin: 0 0.4em 0.5em 0.4em;box-sizing: border-box;padding-bottom: 0.4em;background-color: white;}#sk-container-id-4 div.sk-label label {font-family: monospace;font-weight: bold;display: inline-block;line-height: 1.2em;}#sk-container-id-4 div.sk-label-container {text-align: center;}#sk-container-id-4 div.sk-container {/* jupyter's `normalize.less` sets `[hidden] { display: none; }` but bootstrap.min.css set `[hidden] { display: none !important; }` so we also need the `!important` here to be able to override the default hidden behavior on the sphinx rendered scikit-learn.org. See: https://github.com/scikit-learn/scikit-learn/issues/21755 */display: inline-block !important;position: relative;}#sk-container-id-4 div.sk-text-repr-fallback {display: none;}</style><div id=\"sk-container-id-4\" class=\"sk-top-container\"><div class=\"sk-text-repr-fallback\"><pre>GaussianNB()</pre><b>In a Jupyter environment, please rerun this cell to show the HTML representation or trust the notebook. <br />On GitHub, the HTML representation is unable to render, please try loading this page with nbviewer.org.</b></div><div class=\"sk-container\" hidden><div class=\"sk-item\"><div class=\"sk-estimator sk-toggleable\"><input class=\"sk-toggleable__control sk-hidden--visually\" id=\"sk-estimator-id-4\" type=\"checkbox\" checked><label for=\"sk-estimator-id-4\" class=\"sk-toggleable__label sk-toggleable__label-arrow\">GaussianNB</label><div class=\"sk-toggleable__content\"><pre>GaussianNB()</pre></div></div></div></div></div>"
      ],
      "text/plain": [
       "GaussianNB()"
      ]
     },
     "execution_count": 113,
     "metadata": {},
     "output_type": "execute_result"
    }
   ],
   "source": [
    "from sklearn.naive_bayes import GaussianNB\n",
    "naive_model=GaussianNB()\n",
    "naive_model.fit(X_train,Y_train)"
   ]
  },
  {
   "cell_type": "code",
   "execution_count": 114,
   "metadata": {},
   "outputs": [
    {
     "data": {
      "text/plain": [
       "0.2887415840425209"
      ]
     },
     "execution_count": 114,
     "metadata": {},
     "output_type": "execute_result"
    }
   ],
   "source": [
    "naive_model.score(X_train,Y_train)"
   ]
  },
  {
   "cell_type": "markdown",
   "metadata": {},
   "source": [
    "#   handling outliers"
   ]
  },
  {
   "cell_type": "code",
   "execution_count": 59,
   "metadata": {},
   "outputs": [
    {
     "data": {
      "text/plain": [
       "Index(['manufacturernew', 'conditionnew', 'fuelnew', 'title_statusnew',\n",
       "       'transmissionnew', 'drivenew', 'paint_colornew', 'price', 'cylinders',\n",
       "       'odometer', 'year_new'],\n",
       "      dtype='object')"
      ]
     },
     "execution_count": 59,
     "metadata": {},
     "output_type": "execute_result"
    }
   ],
   "source": [
    "final_data.columns"
   ]
  },
  {
   "cell_type": "code",
   "execution_count": 60,
   "metadata": {},
   "outputs": [
    {
     "data": {
      "text/plain": [
       "<matplotlib.axes._subplots.AxesSubplot at 0x12cd86a0>"
      ]
     },
     "execution_count": 60,
     "metadata": {},
     "output_type": "execute_result"
    },
    {
     "data": {
      "image/png": "[encoded data removed]",
      "text/plain": [
       "<Figure size 720x504 with 1 Axes>"
      ]
     },
     "metadata": {
      "needs_background": "light"
     },
     "output_type": "display_data"
    }
   ],
   "source": [
    "# sns.countplot(final_data.paint_colornew[final_data.paint_colornew==1],hue='type',data=final_data)\n",
    "\n",
    "# final_data.year_new.unique()\n",
    "fig=plt.figure(figsize=(10,7))\n",
    "sns.boxplot(final_data[final_data.price<500000].price)"
   ]
  },
  {
   "cell_type": "code",
   "execution_count": 61,
   "metadata": {},
   "outputs": [],
   "source": [
    "from sklearn.preprocessing import MaxAbsScaler\n",
    "norm=MaxAbsScaler()\n",
    "normalized_prices=norm.fit_transform(np.array(final_data.price).reshape(-1,1))"
   ]
  },
  {
   "cell_type": "code",
   "execution_count": 62,
   "metadata": {},
   "outputs": [
    {
     "data": {
      "text/plain": [
       "array([0.1500015 , 0.22590226, 0.2799028 , 0.299903  , 0.3099031 ,\n",
       "       0.33590336, 0.34590346, 0.3500035 , 0.38590386, 0.39590396])"
      ]
     },
     "execution_count": 62,
     "metadata": {},
     "output_type": "execute_result"
    }
   ],
   "source": [
    "np.unique(normalized_prices[0:10])"
   ]
  },
  {
   "cell_type": "code",
   "execution_count": 63,
   "metadata": {},
   "outputs": [
    {
     "data": {
      "text/plain": [
       "<matplotlib.axes._subplots.AxesSubplot at 0x12d5ab80>"
      ]
     },
     "execution_count": 63,
     "metadata": {},
     "output_type": "execute_result"
    },
    {
     "data": {
      "image/png": "[encoded data removed]",
      "text/plain": [
       "<Figure size 432x288 with 1 Axes>"
      ]
     },
     "metadata": {
      "needs_background": "light"
     },
     "output_type": "display_data"
    }
   ],
   "source": [
    "sns.kdeplot(np.sqrt(final_data.price))"
   ]
  },
  {
   "cell_type": "code",
   "execution_count": 64,
   "metadata": {},
   "outputs": [
    {
     "name": "stderr",
     "output_type": "stream",
     "text": [
      "C:\\ProgramData\\Anaconda3\\lib\\site-packages\\mpl_toolkits\\mplot3d\\art3d.py:794: FutureWarning: elementwise comparison failed; returning scalar instead, but in the future will perform elementwise comparison\n",
      "  if zdir == 'x':\n",
      "C:\\ProgramData\\Anaconda3\\lib\\site-packages\\mpl_toolkits\\mplot3d\\art3d.py:796: FutureWarning: elementwise comparison failed; returning scalar instead, but in the future will perform elementwise comparison\n",
      "  elif zdir == 'y':\n",
      "C:\\ProgramData\\Anaconda3\\lib\\site-packages\\mpl_toolkits\\mplot3d\\art3d.py:798: FutureWarning: elementwise comparison failed; returning scalar instead, but in the future will perform elementwise comparison\n",
      "  elif zdir[0] == '-':\n"
     ]
    },
    {
     "data": {
      "text/plain": [
       "<matplotlib.axes._subplots.Axes3DSubplot at 0xc5c03550>"
      ]
     },
     "execution_count": 64,
     "metadata": {},
     "output_type": "execute_result"
    },
    {
     "data": {
      "image/png": "[encoded data removed]",
      "text/plain": [
       "<Figure size 720x504 with 1 Axes>"
      ]
     },
     "metadata": {
      "needs_background": "light"
     },
     "output_type": "display_data"
    }
   ],
   "source": [
    "# fig=plt.figure(figsize=(15,7))\n",
    "# sns.kdeplot(final_data.odometer)\n",
    "fig = plt.figure(figsize=(10,7))\n",
    "ax = plt.axes(projection='3d')\n",
    "sns.scatterplot(y=final_data.odometer,x=final_data.index,data=final_data)"
   ]
  },
  {
   "cell_type": "code",
   "execution_count": 65,
   "metadata": {},
   "outputs": [
    {
     "data": {
      "text/html": [
       "<div>\n",
       "<style scoped>\n",
       "    .dataframe tbody tr th:only-of-type {\n",
       "        vertical-align: middle;\n",
       "    }\n",
       "\n",
       "    .dataframe tbody tr th {\n",
       "        vertical-align: top;\n",
       "    }\n",
       "\n",
       "    .dataframe thead th {\n",
       "        text-align: right;\n",
       "    }\n",
       "</style>\n",
       "<table border=\"1\" class=\"dataframe\">\n",
       "  <thead>\n",
       "    <tr style=\"text-align: right;\">\n",
       "      <th></th>\n",
       "      <th>price</th>\n",
       "      <th>odometer</th>\n",
       "    </tr>\n",
       "  </thead>\n",
       "  <tbody>\n",
       "    <tr>\n",
       "      <th>count</th>\n",
       "      <td>307551.000000</td>\n",
       "      <td>3.075510e+05</td>\n",
       "    </tr>\n",
       "    <tr>\n",
       "      <th>mean</th>\n",
       "      <td>19628.902315</td>\n",
       "      <td>9.133945e+04</td>\n",
       "    </tr>\n",
       "    <tr>\n",
       "      <th>std</th>\n",
       "      <td>14378.411597</td>\n",
       "      <td>1.587421e+05</td>\n",
       "    </tr>\n",
       "    <tr>\n",
       "      <th>min</th>\n",
       "      <td>1.000000</td>\n",
       "      <td>0.000000e+00</td>\n",
       "    </tr>\n",
       "    <tr>\n",
       "      <th>25%</th>\n",
       "      <td>7999.000000</td>\n",
       "      <td>3.463600e+04</td>\n",
       "    </tr>\n",
       "    <tr>\n",
       "      <th>50%</th>\n",
       "      <td>16666.000000</td>\n",
       "      <td>8.095300e+04</td>\n",
       "    </tr>\n",
       "    <tr>\n",
       "      <th>75%</th>\n",
       "      <td>28590.000000</td>\n",
       "      <td>1.290000e+05</td>\n",
       "    </tr>\n",
       "    <tr>\n",
       "      <th>max</th>\n",
       "      <td>99999.000000</td>\n",
       "      <td>1.000000e+07</td>\n",
       "    </tr>\n",
       "  </tbody>\n",
       "</table>\n",
       "</div>"
      ],
      "text/plain": [
       "               price      odometer\n",
       "count  307551.000000  3.075510e+05\n",
       "mean    19628.902315  9.133945e+04\n",
       "std     14378.411597  1.587421e+05\n",
       "min         1.000000  0.000000e+00\n",
       "25%      7999.000000  3.463600e+04\n",
       "50%     16666.000000  8.095300e+04\n",
       "75%     28590.000000  1.290000e+05\n",
       "max     99999.000000  1.000000e+07"
      ]
     },
     "execution_count": 65,
     "metadata": {},
     "output_type": "execute_result"
    }
   ],
   "source": [
    "final_data[['price','odometer']].describe()"
   ]
  },
  {
   "cell_type": "code",
   "execution_count": 66,
   "metadata": {},
   "outputs": [
    {
     "data": {
      "text/plain": [
       "<matplotlib.axes._subplots.AxesSubplot at 0x7e761400>"
      ]
     },
     "execution_count": 66,
     "metadata": {},
     "output_type": "execute_result"
    },
    {
     "data": {
      "image/png": "[encoded data removed]",
      "text/plain": [
       "<Figure size 432x288 with 1 Axes>"
      ]
     },
     "metadata": {
      "needs_background": "light"
     },
     "output_type": "display_data"
    }
   ],
   "source": [
    "sns.countplot(final_data.manufacturernew)"
   ]
  },
  {
   "cell_type": "code",
   "execution_count": 67,
   "metadata": {},
   "outputs": [
    {
     "data": {
      "text/plain": [
       "1.0"
      ]
     },
     "execution_count": 67,
     "metadata": {},
     "output_type": "execute_result"
    }
   ],
   "source": [
    "# fig=plt.figure(figsize=(15,12))\n",
    "# sns.scatterplot(y=final_data.price>500000,x=final_data.index)\n",
    "len(final_data[final_data.price<100000])/len(final_data)\n",
    "# print(len(final_data[final_data.price<200000]))"
   ]
  },
  {
   "cell_type": "code",
   "execution_count": 68,
   "metadata": {},
   "outputs": [
    {
     "data": {
      "text/plain": [
       "0.9222446425684536"
      ]
     },
     "execution_count": 68,
     "metadata": {},
     "output_type": "execute_result"
    }
   ],
   "source": [
    "# the year feature is the year of the made of the car \n",
    "# we will split the year features to 10 11 parts \n",
    "# we will consider that every ten years are similar in car marketing\n",
    "# bins_year_edges =np.array([1889, 1901, 1913, 1925, 1937, 1949, 1961, 1973, 1985, 1997, 2009,2023])\n",
    "\n",
    "bins_price_edges=np.arange(start=numerical_col['price'].min(),stop=numerical_col['price'].max(),step=500000000)\n",
    "bins_price_edges\n",
    "# bins_year_edges\n",
    "price_labels=['p1','p2','p3','p4','p5','p6','p7']\n",
    "\n",
    "price_bins=pd.cut(numerical_col['price'],bins_price_edges,labels=price_labels)\n",
    "len(price_bins[price_bins=='p1'])/len(price_bins)\n",
    "# len(price_bins[price_bins=='p2'])\n",
    "# len(price_bins[price_bins=='p3'])\n",
    "# numerical_col.price[-10:]\n",
    "\n",
    "# # years_bins.isnull()\n",
    "# # years_bins[years_bins.isnull()==True].index\n",
    "# # label_encoder.fit_transform(years_bins)\n",
    "# # years_bins.isnull().sum()\n",
    "# years_generations=label_encoder.fit_transform(years_bins)\n",
    "# # np.unique(years_generations)\n",
    "# # np.unique(years_generations)\n",
    "# numerical_col.loc[:,'year_new']=years_generations\n",
    "# # np.unique(years_generations)\n",
    "# # years_bins.unique()\n",
    "# np.sort(numerical_col['price'])[-10:]"
   ]
  },
  {
   "cell_type": "code",
   "execution_count": 69,
   "metadata": {},
   "outputs": [
    {
     "data": {
      "text/plain": [
       "count     308052\n",
       "unique         2\n",
       "top           p1\n",
       "freq      308050\n",
       "Name: price, dtype: object"
      ]
     },
     "execution_count": 69,
     "metadata": {},
     "output_type": "execute_result"
    }
   ],
   "source": [
    "price_bins.describe()"
   ]
  },
  {
   "cell_type": "code",
   "execution_count": 70,
   "metadata": {},
   "outputs": [],
   "source": [
    "d=final_data.copy()"
   ]
  },
  {
   "cell_type": "code",
   "execution_count": 71,
   "metadata": {},
   "outputs": [
    {
     "ename": "NameError",
     "evalue": "name 'd1' is not defined",
     "output_type": "error",
     "traceback": [
      "\u001b[1;31m---------------------------------------------------------------------------\u001b[0m",
      "\u001b[1;31mNameError\u001b[0m                                 Traceback (most recent call last)",
      "\u001b[1;32m<ipython-input-71-643992a90a92>\u001b[0m in \u001b[0;36m<module>\u001b[1;34m\u001b[0m\n\u001b[1;32m----> 1\u001b[1;33m \u001b[0mq1_price\u001b[0m\u001b[1;33m,\u001b[0m\u001b[0mq3_price\u001b[0m\u001b[1;33m=\u001b[0m\u001b[0md1\u001b[0m\u001b[1;33m.\u001b[0m\u001b[0mprice\u001b[0m\u001b[1;33m.\u001b[0m\u001b[0mquantile\u001b[0m\u001b[1;33m(\u001b[0m\u001b[1;33m[\u001b[0m\u001b[1;36m0.25\u001b[0m\u001b[1;33m,\u001b[0m\u001b[1;36m0.75\u001b[0m\u001b[1;33m]\u001b[0m\u001b[1;33m)\u001b[0m\u001b[1;33m\u001b[0m\u001b[1;33m\u001b[0m\u001b[0m\n\u001b[0m\u001b[0;32m      2\u001b[0m \u001b[0miqr_price\u001b[0m\u001b[1;33m=\u001b[0m\u001b[0mq3_price\u001b[0m\u001b[1;33m-\u001b[0m\u001b[0mq1_price\u001b[0m\u001b[1;33m\u001b[0m\u001b[1;33m\u001b[0m\u001b[0m\n\u001b[0;32m      3\u001b[0m \u001b[0mlow_limit_price\u001b[0m\u001b[1;33m=\u001b[0m\u001b[0mq1_price\u001b[0m\u001b[1;33m-\u001b[0m\u001b[1;36m1.5\u001b[0m\u001b[1;33m*\u001b[0m\u001b[0miqr_price\u001b[0m\u001b[1;33m\u001b[0m\u001b[1;33m\u001b[0m\u001b[0m\n\u001b[0;32m      4\u001b[0m \u001b[0mupper_limit_price\u001b[0m\u001b[1;33m=\u001b[0m\u001b[0mq3_price\u001b[0m\u001b[1;33m+\u001b[0m\u001b[1;36m1.5\u001b[0m\u001b[1;33m*\u001b[0m\u001b[0miqr_price\u001b[0m\u001b[1;33m\u001b[0m\u001b[1;33m\u001b[0m\u001b[0m\n\u001b[0;32m      5\u001b[0m \u001b[0mprint\u001b[0m\u001b[1;33m(\u001b[0m\u001b[0mlow_limit_price\u001b[0m\u001b[1;33m)\u001b[0m\u001b[1;33m\u001b[0m\u001b[1;33m\u001b[0m\u001b[0m\n",
      "\u001b[1;31mNameError\u001b[0m: name 'd1' is not defined"
     ]
    }
   ],
   "source": [
    "q1_price,q3_price=d1.price.quantile([0.25,0.75])\n",
    "iqr_price=q3_price-q1_price\n",
    "low_limit_price=q1_price-1.5*iqr_price\n",
    "upper_limit_price=q3_price+1.5*iqr_price\n",
    "print(low_limit_price)\n",
    "print(upper_limit_price)"
   ]
  },
  {
   "cell_type": "code",
   "execution_count": null,
   "metadata": {},
   "outputs": [],
   "source": [
    "price_mean=d1.price.mean()\n",
    "price_mean\n",
    "price_std=d1.price.std()\n",
    "price_std\n",
    "points=np.linspace(price_mean-3*price_std,price_mean+3*price_std,100)"
   ]
  },
  {
   "cell_type": "code",
   "execution_count": null,
   "metadata": {},
   "outputs": [],
   "source": [
    "from scipy.stats import norm\n",
    "fig,ax=plt.subplots(2,1)\n",
    "sns.boxplot(d1.price,ax=ax[0])\n",
    "ax[1].plot(points,norm.pdf(points,price_mean,price_std))"
   ]
  },
  {
   "cell_type": "code",
   "execution_count": null,
   "metadata": {},
   "outputs": [],
   "source": [
    "fig = plt.figure(figsize=(10,7))\n",
    "ax = plt.axes(projection='3d')\n",
    "sns.scatterplot(y=final_data.price,x=final_data.index,data=final_data)"
   ]
  },
  {
   "cell_type": "code",
   "execution_count": null,
   "metadata": {},
   "outputs": [],
   "source": [
    "from sklearn.naive_bayes import GaussianNB\n",
    "naive_model=GaussianNB()\n",
    "naive_model.fit(X_train,Y_train)"
   ]
  },
  {
   "cell_type": "code",
   "execution_count": null,
   "metadata": {},
   "outputs": [],
   "source": [
    "naive_model.score(X_train,Y_train)"
   ]
  },
  {
   "cell_type": "code",
   "execution_count": 110,
   "metadata": {},
   "outputs": [
    {
     "data": {
      "text/plain": [
       "<matplotlib.axes._subplots.AxesSubplot at 0x129686e80>"
      ]
     },
     "execution_count": 110,
     "metadata": {},
     "output_type": "execute_result"
    },
    {
     "data": {
      "image/png": "[encoded data removed]",
      "text/plain": [
       "<Figure size 1080x720 with 2 Axes>"
      ]
     },
     "metadata": {
      "needs_background": "light"
     },
     "output_type": "display_data"
    }
   ],
   "source": [
    "from sklearn.metrics import confusion_matrix,ConfusionMatrixDisplay\n",
    "fig=plt.figure(figsize=(15,10))\n",
    "labels=['pickup', 'truck', 'other', 'coupe', 'SUV', 'hatchback',\n",
    "       'mini-van', 'sedan', 'offroad', 'bus', 'convertible', 'wagon',\n",
    "       'van']\n",
    "cf_matrix=confusion_matrix(predicted,Y_test,labels=labels)\n",
    "# labels=[data1.type.unique()]\n",
    "# labels\n",
    "cf_matrix\n",
    "sns.heatmap(cf_matrix,annot=True)\n",
    "# print(Y_test)\n",
    "# print(predicted)\n",
    "# disp=ConfusionMatrixDisplay(confusion_matrix=cf_matrix,display_labels=decision_tree_model.classes_)\n",
    "# disp.plot(ax=ax1)\n",
    "# plt.show()"
   ]
  },
  {
   "cell_type": "code",
   "execution_count": 111,
   "metadata": {},
   "outputs": [
    {
     "name": "stdout",
     "output_type": "stream",
     "text": [
      "              precision    recall  f1-score   support\n",
      "\n",
      "      pickup       0.78      0.78      0.78     10287\n",
      "       truck       0.72      0.72      0.72      7569\n",
      "       other       0.78      0.74      0.76      5014\n",
      "       coupe       0.68      0.67      0.67      4650\n",
      "         SUV       0.75      0.75      0.75     17546\n",
      "   hatchback       0.68      0.68      0.68      4104\n",
      "    mini-van       0.50      0.51      0.50      1097\n",
      "       sedan       0.77      0.78      0.77     19781\n",
      "     offroad       0.24      0.26      0.25       149\n",
      "         bus       0.56      0.63      0.59       113\n",
      " convertible       0.57      0.59      0.58      1842\n",
      "       wagon       0.63      0.59      0.61      2688\n",
      "         van       0.67      0.63      0.65      2048\n",
      "\n",
      "    accuracy                           0.73     76888\n",
      "   macro avg       0.64      0.64      0.64     76888\n",
      "weighted avg       0.73      0.73      0.73     76888\n",
      "\n"
     ]
    }
   ],
   "source": [
    "from sklearn.metrics import classification_report\n",
    "print(classification_report(predicted,Y_test,labels=labels))"
   ]
  },
  {
   "cell_type": "code",
   "execution_count": 118,
   "metadata": {},
   "outputs": [
    {
     "name": "stderr",
     "output_type": "stream",
     "text": [
      "C:\\Users\\rayan\\AppData\\Roaming\\Python\\Python38\\site-packages\\sklearn\\metrics\\_classification.py:1334: UndefinedMetricWarning: Recall and F-score are ill-defined and being set to 0.0 in labels with no true samples. Use `zero_division` parameter to control this behavior.\n",
      "  _warn_prf(average, modifier, msg_start, len(result))\n",
      "C:\\Users\\rayan\\AppData\\Roaming\\Python\\Python38\\site-packages\\sklearn\\metrics\\_classification.py:1334: UndefinedMetricWarning: Recall and F-score are ill-defined and being set to 0.0 in labels with no true samples. Use `zero_division` parameter to control this behavior.\n",
      "  _warn_prf(average, modifier, msg_start, len(result))\n"
     ]
    },
    {
     "name": "stdout",
     "output_type": "stream",
     "text": [
      "              precision    recall  f1-score   support\n",
      "\n",
      "      pickup       0.21      0.26      0.24      8270\n",
      "       truck       0.06      0.36      0.11      1341\n",
      "       other       0.00      0.00      0.00         0\n",
      "       coupe       0.00      0.04      0.00        27\n",
      "         SUV       0.65      0.25      0.37     45079\n",
      "   hatchback       0.00      0.00      0.00         0\n",
      "    mini-van       0.00      0.00      0.00         0\n",
      "       sedan       0.40      0.36      0.38     22078\n",
      "     offroad       0.01      0.02      0.02        92\n",
      "         bus       0.00      0.00      0.00         0\n",
      " convertible       0.00      0.00      0.00         0\n",
      "       wagon       0.00      0.00      0.00         1\n",
      "         van       0.00      0.00      0.00         0\n",
      "\n",
      "    accuracy                           0.29     76888\n",
      "   macro avg       0.10      0.10      0.09     76888\n",
      "weighted avg       0.52      0.29      0.35     76888\n",
      "\n"
     ]
    },
    {
     "name": "stderr",
     "output_type": "stream",
     "text": [
      "C:\\Users\\rayan\\AppData\\Roaming\\Python\\Python38\\site-packages\\sklearn\\metrics\\_classification.py:1334: UndefinedMetricWarning: Recall and F-score are ill-defined and being set to 0.0 in labels with no true samples. Use `zero_division` parameter to control this behavior.\n",
      "  _warn_prf(average, modifier, msg_start, len(result))\n"
     ]
    }
   ],
   "source": [
    "n_predicted=naive_model.predict(X_test)\n",
    "print(classification_report(n_predicted,Y_test,labels=labels))\n"
   ]
  },
  {
   "cell_type": "code",
   "execution_count": null,
   "metadata": {},
   "outputs": [],
   "source": [
    "from sklearn.metrics import f1_score \n",
    "decision_tree_model."
   ]
  }
 ],
 "metadata": {
  "kernelspec": {
   "display_name": "Python 3",
   "language": "python",
   "name": "python3"
  },
  "language_info": {
   "codemirror_mode": {
    "name": "ipython",
    "version": 3
   },
   "file_extension": ".py",
   "mimetype": "text/x-python",
   "name": "python",
   "nbconvert_exporter": "python",
   "pygments_lexer": "ipython3",
   "version": "3.8.3"
  }
 },
 "nbformat": 4,
 "nbformat_minor": 4
}
